{
 "cells": [
  {
   "cell_type": "code",
   "execution_count": null,
   "id": "406b27a8",
   "metadata": {},
   "outputs": [],
   "source": [
    "# RETAILROCKET DATASET - EXPLORATORY DATA ANALYSIS\n",
    "# Dataset: E-commerce user behavior (views, add-to-cart, purchases)\n",
    "# Goal: Understand user patterns, item popularity, and conversion funnels"
   ]
  },
  {
   "cell_type": "code",
   "execution_count": null,
   "id": "360dc37e",
   "metadata": {},
   "outputs": [],
   "source": [
    "import os\n",
    "from pathlib import Path\n",
    "import pandas as pd\n",
    "import numpy as np\n",
    "import matplotlib.pyplot as plt\n",
    "import seaborn as sns\n",
    "from datetime import datetime"
   ]
  },
  {
   "cell_type": "code",
   "execution_count": null,
   "id": "42d736e8",
   "metadata": {},
   "outputs": [],
   "source": [
    "# Visualization settings\n",
    "plt.style.use('seaborn-v0_8-darkgrid')\n",
    "sns.set_palette(\"husl\")\n",
    "pd.set_option('display.max_columns', None)\n",
    "pd.set_option('display.width', None)"
   ]
  },
  {
   "cell_type": "code",
   "execution_count": null,
   "id": "f775b745",
   "metadata": {},
   "outputs": [],
   "source": [
    "# 1. PROJECT SETUP"
   ]
  },
  {
   "cell_type": "code",
   "execution_count": null,
   "id": "c94348ce",
   "metadata": {},
   "outputs": [],
   "source": [
    "cwd = Path(os.getcwd())\n",
    "if (cwd / \"data\").exists():\n",
    "    PROJECT_ROOT = cwd\n",
    "else:\n",
    "    PROJECT_ROOT = cwd.parent  \n",
    "print(\"project root:\", PROJECT_ROOT)\n",
    "\n",
    "DATA_DIR = PROJECT_ROOT / \"data\" / \"raw\" \n",
    "print(\"data dir:\", DATA_DIR)\n",
    "print(\"files:\", list(DATA_DIR.glob(\"*\"))[:10])  "
   ]
  },
  {
   "cell_type": "code",
   "execution_count": null,
   "id": "3394e322",
   "metadata": {},
   "outputs": [],
   "source": [
    "\n",
    "# 2. DATA LOADING"
   ]
  },
  {
   "cell_type": "code",
   "execution_count": null,
   "id": "fdcbe70e",
   "metadata": {},
   "outputs": [],
   "source": [
    "events = pd.read_csv(DATA_DIR / \"events.csv\",dtype={'timestamp': 'int64'})\n",
    "category_tree = pd.read_csv(DATA_DIR / \"category_tree.csv\")\n",
    "prop1 = pd.read_csv(DATA_DIR / \"item_properties_part1.csv\",dtype={'timestamp': 'int64'})\n",
    "prop2 = pd.read_csv(DATA_DIR / \"item_properties_part2.csv\",dtype={'timestamp': 'int64'})"
   ]
  },
  {
   "cell_type": "code",
   "execution_count": null,
   "id": "07ead8c5",
   "metadata": {},
   "outputs": [],
   "source": [
    "# Merging properties\n",
    "item_properties = pd.concat([prop1, prop2], ignore_index=True)"
   ]
  },
  {
   "cell_type": "code",
   "execution_count": null,
   "id": "7c75e12c",
   "metadata": {},
   "outputs": [],
   "source": [
    "print(f\"Item properties merged: {item_properties.shape} (part1: {prop1.shape}, part2: {prop2.shape})\")\n"
   ]
  },
  {
   "cell_type": "code",
   "execution_count": null,
   "id": "c4daf979",
   "metadata": {},
   "outputs": [],
   "source": [
    "# 3. INITIAL DATA OVERVIEW"
   ]
  },
  {
   "cell_type": "code",
   "execution_count": null,
   "id": "6b73d238",
   "metadata": {},
   "outputs": [],
   "source": [
    "datasets = {\n",
    "    'events': events,\n",
    "    'category_tree': category_tree,\n",
    "    'item_properties': item_properties\n",
    "}\n",
    "\n",
    "for name, df in datasets.items():\n",
    "    print(f\"\\n{name.upper()}\")\n",
    "    print(f\"Shape: {df.shape}\")\n",
    "    print(f\"Columns: {list(df.columns)}\")\n",
    "    print(f\"Memory: {df.memory_usage(deep=True).sum() / 1e6:.2f} MB\")\n",
    "    print(f\"\\nFirst 3 rows:\")\n",
    "    print(df.head(3).to_string(index=False))\n",
    "    print(f\"Nulls:\\n{df.isna().sum()}\")"
   ]
  },
  {
   "cell_type": "code",
   "execution_count": null,
   "id": "070ae111",
   "metadata": {},
   "outputs": [],
   "source": [
    "# 4. EVENTS - PREPROCESSING & ANALYSIS"
   ]
  },
  {
   "cell_type": "code",
   "execution_count": null,
   "id": "3412ee35",
   "metadata": {},
   "outputs": [],
   "source": [
    "# Convert timestamp\n",
    "events['timestamp'] = pd.to_datetime(events['timestamp'], unit='ms')\n",
    "events['date'] = events['timestamp'].dt.date\n",
    "events['hour'] = events['timestamp'].dt.hour\n",
    "events['dayofweek'] = events['timestamp'].dt.dayofweek\n",
    "events['day_name'] = events['timestamp'].dt.day_name()"
   ]
  },
  {
   "cell_type": "code",
   "execution_count": null,
   "id": "e3ee6ee4",
   "metadata": {},
   "outputs": [],
   "source": [
    "item_col =\"itemid\"\n",
    "user_col = \"visitorid\"\n",
    "event_col = \"event\" \n",
    "\n",
    "# unique counts\n",
    "print(\"\\nunique counts (sample):\")\n",
    "for c in [user_col, item_col, event_col]:\n",
    "    if c in events.columns:\n",
    "        print(c, \"unique:\", events[c].nunique())\n",
    "\n",
    "\n",
    "# top products and top users in the sample\n",
    "print(\"\\nTop 10 items (by events):\\n\", events[item_col].value_counts().head(10))\n",
    "print(\"\\nTop 10 users (by events):\\n\", events[user_col].value_counts().head(10))"
   ]
  },
  {
   "cell_type": "code",
   "execution_count": null,
   "id": "3c0209f5",
   "metadata": {},
   "outputs": [],
   "source": [
    "#Basic Statistics\n",
    "print(f\"\\nBasic Statistics:\")\n",
    "print(f\"  Total events: {len(events):,}\")\n",
    "print(f\"  Unique visitors: {events['visitorid'].nunique():,}\")\n",
    "print(f\"  Unique items: {events['itemid'].nunique():,}\")\n",
    "print(f\"  Date range: {events['timestamp'].min()} to {events['timestamp'].max()}\")\n",
    "print(f\"  Days span: {(events['timestamp'].max() - events['timestamp'].min()).days} days\")"
   ]
  },
  {
   "cell_type": "code",
   "execution_count": null,
   "id": "b6c20dc9",
   "metadata": {},
   "outputs": [],
   "source": [
    "print(\"\\nEvent Type Distribution:\")\n",
    "event_dist = events['event'].value_counts()\n",
    "for event_type, count in event_dist.items():\n",
    "    pct = count / len(events) * 100\n",
    "    print(f\"  {event_type}: {count:,} ({pct:.2f}%)\")"
   ]
  },
  {
   "cell_type": "code",
   "execution_count": null,
   "id": "e763dbaf",
   "metadata": {},
   "outputs": [],
   "source": [
    "# Conversion metrics\n",
    "total_views = event_dist.get('view', 0)\n",
    "total_addtocart = event_dist.get('addtocart', 0)\n",
    "total_transactions = event_dist.get('transaction', 0)\n",
    "\n",
    "print(\"\\nConversion Funnel:\")\n",
    "print(f\"  Views → AddToCart: {total_addtocart/total_views*100:.2f}%\" if total_views > 0 else \"N/A\")\n",
    "print(f\"  Views → Purchase: {total_transactions/total_views*100:.2f}%\" if total_views > 0 else \"N/A\")\n",
    "print(f\"  AddToCart → Purchase: {total_transactions/total_addtocart*100:.2f}%\" if total_addtocart > 0 else \"N/A\")"
   ]
  },
  {
   "cell_type": "code",
   "execution_count": null,
   "id": "a9a2222d",
   "metadata": {},
   "outputs": [],
   "source": [
    "print(events['timestamp'].min())\n",
    "print(events['timestamp'].max())"
   ]
  },
  {
   "cell_type": "code",
   "execution_count": null,
   "id": "ed689b35",
   "metadata": {},
   "outputs": [],
   "source": [
    "# 5. ITEM PROPERTIES - analysis"
   ]
  },
  {
   "cell_type": "code",
   "execution_count": null,
   "id": "fdba8b9c",
   "metadata": {},
   "outputs": [],
   "source": [
    "# Convert timestamp\n",
    "item_properties['timestamp'] = pd.to_datetime(item_properties['timestamp'], unit='ms')"
   ]
  },
  {
   "cell_type": "code",
   "execution_count": null,
   "id": "72f5c4ce",
   "metadata": {},
   "outputs": [],
   "source": [
    "print(f\"\\nBasic Statistics:\")\n",
    "print(f\"  Total property records: {len(item_properties):,}\")\n",
    "print(f\"  Unique items: {item_properties['itemid'].nunique():,}\")\n",
    "print(f\"  Unique properties: {item_properties['property'].nunique()}\")\n",
    "print(f\"  Date range: {item_properties['timestamp'].min()} to {item_properties['timestamp'].max()}\")\n"
   ]
  },
  {
   "cell_type": "code",
   "execution_count": null,
   "id": "c1af44d6",
   "metadata": {},
   "outputs": [],
   "source": [
    "print(\"\\n📋 Property Types Overview:\")\n",
    "prop_counts = item_properties['property'].value_counts()\n",
    "print(f\"  Total unique property types: {len(prop_counts):,}\")\n",
    "\n",
    "# Show only the most common properties (top 10)\n",
    "print(f\"\\n  Top 10 Most Common Properties:\")\n",
    "for prop, count in prop_counts.head(10).items():\n",
    "    unique_items = item_properties[item_properties['property'] == prop]['itemid'].nunique()\n",
    "    print(f\"    {prop}: {count:,} records across {unique_items:,} items\")\n"
   ]
  },
  {
   "cell_type": "code",
   "execution_count": null,
   "id": "4df8dc97",
   "metadata": {},
   "outputs": [],
   "source": [
    "# Property coverage per item\n",
    "print(\"\\n📊 Property Coverage per Item:\")\n",
    "props_per_item = item_properties.groupby('itemid')['property'].nunique()\n",
    "print(f\"  Items with 1 property: {(props_per_item == 1).sum():,}\")\n",
    "print(f\"  Items with 2+ properties: {(props_per_item >= 2).sum():,}\")\n",
    "print(f\"  Items with 5+ properties: {(props_per_item >= 5).sum():,}\")\n"
   ]
  },
  {
   "cell_type": "code",
   "execution_count": null,
   "id": "c48465d7",
   "metadata": {},
   "outputs": [],
   "source": [
    "# Sample item with all properties\n",
    "print(\"\\n🔍 Sample Item Properties:\")\n",
    "# Find an item with many properties but not the absolute max (which might be an outlier)\n",
    "props_per_item_sorted = item_properties.groupby('itemid')['property'].nunique().sort_values(ascending=False)\n",
    "sample_item = props_per_item_sorted.iloc[min(10, len(props_per_item_sorted)-1)]  # 11th item or last\n",
    "sample_item_id = props_per_item_sorted.index[min(10, len(props_per_item_sorted)-1)]\n",
    "sample_props = item_properties[item_properties['itemid'] == sample_item_id][['property', 'value']].head(5)\n",
    "print(f\"Item {sample_item_id} (has {sample_item} properties, showing first 5):\")\n",
    "print(sample_props.to_string(index=False))\n",
    "if sample_item > 5:\n",
    "    print(f\"  ... and {sample_item - 5} more properties\")"
   ]
  },
  {
   "cell_type": "code",
   "execution_count": null,
   "id": "1314a46f",
   "metadata": {},
   "outputs": [],
   "source": [
    "# 6. CATEGORY TREE - HIERARCHY ANALYSIS"
   ]
  },
  {
   "cell_type": "code",
   "execution_count": null,
   "id": "ff393ee4",
   "metadata": {},
   "outputs": [],
   "source": [
    "print(f\"\\nBasic Statistics:\")\n",
    "print(f\"  Total categories: {len(category_tree):,}\")\n",
    "print(f\"  Unique category IDs: {category_tree['categoryid'].nunique():,}\")\n",
    "print(f\"  Unique parent IDs: {category_tree['parentid'].nunique():,}\")\n"
   ]
  },
  {
   "cell_type": "code",
   "execution_count": null,
   "id": "0809b766",
   "metadata": {},
   "outputs": [],
   "source": [
    "print(f\"\\nBasic Statistics:\")\n",
    "print(f\"  Total categories: {len(category_tree):,}\")\n",
    "print(f\"  Unique category IDs: {category_tree['categoryid'].nunique():,}\")\n",
    "print(f\"  Unique parent IDs: {category_tree['parentid'].nunique():,}\")"
   ]
  },
  {
   "cell_type": "code",
   "execution_count": null,
   "id": "6d5e927f",
   "metadata": {},
   "outputs": [],
   "source": [
    "# Root categories (no parent)\n",
    "root_categories = category_tree[category_tree['parentid'].isna()]\n",
    "print(f\"\\n Root Categories (top-level): {len(root_categories)}\")"
   ]
  },
  {
   "cell_type": "code",
   "execution_count": null,
   "id": "f5f679cb",
   "metadata": {},
   "outputs": [],
   "source": [
    "# Depth analysis \n",
    "print(\"\\n📏 Category Hierarchy Depth Analysis:\")\n",
    "\n",
    "#  parent lookup dictionary \n",
    "parent_lookup = dict(zip(category_tree['categoryid'], category_tree['parentid']))\n",
    "def get_category_depth_fast(cat_id, parent_dict, max_depth=20):\n",
    "    \"\"\"Calculate depth using dictionary lookup (much faster)\"\"\"\n",
    "    depth = 0\n",
    "    current = cat_id\n",
    "    visited = set()\n",
    "    \n",
    "    while depth < max_depth and current in parent_dict:\n",
    "        if current in visited:  # Detect cycles\n",
    "            return -1\n",
    "        visited.add(current)\n",
    "        \n",
    "        parent = parent_dict[current]\n",
    "        if pd.isna(parent):\n",
    "            return depth\n",
    "        current = parent\n",
    "        depth += 1\n",
    "    \n",
    "    return depth\n"
   ]
  },
  {
   "cell_type": "code",
   "execution_count": null,
   "id": "80a5edc8",
   "metadata": {},
   "outputs": [],
   "source": [
    "# Sample categories for depth calculation (or use all if not too many)\n",
    "sample_size = min(1000, len(category_tree))\n",
    "sample_cats = category_tree['categoryid'].sample(sample_size).tolist()\n",
    "depths = [get_category_depth_fast(cat, parent_lookup) for cat in sample_cats]\n",
    "valid_depths = [d for d in depths if d >= 0]  # Filter out cycles"
   ]
  },
  {
   "cell_type": "code",
   "execution_count": null,
   "id": "7cf70bd5",
   "metadata": {},
   "outputs": [],
   "source": [
    "if valid_depths:\n",
    "    print(f\"  Sample size: {len(valid_depths)} categories\")\n",
    "    print(f\"  Min depth: {min(valid_depths)}\")\n",
    "    print(f\"  Max depth: {max(valid_depths)}\")\n",
    "    print(f\"  Avg depth: {np.mean(valid_depths):.2f}\")\n",
    "    if len(depths) != len(valid_depths):\n",
    "        print(f\"  ⚠️  Circular references detected: {len(depths) - len(valid_depths)}\")\n",
    "else:\n",
    "    print(\"  Could not calculate depths (possible data issues)\")"
   ]
  },
  {
   "cell_type": "code",
   "execution_count": null,
   "id": "061ac41b",
   "metadata": {},
   "outputs": [],
   "source": [
    "# Categories with children\n",
    "cats_with_children = category_tree['parentid'].value_counts()\n",
    "print(f\"\\n👶 Categories with Children:\")\n",
    "print(f\"  Categories that are parents: {len(cats_with_children)}\")\n",
    "print(f\"  Max children per category: {cats_with_children.max()}\")\n",
    "print(f\"  Avg children per parent: {cats_with_children.mean():.2f}\")"
   ]
  },
  {
   "cell_type": "code",
   "execution_count": null,
   "id": "3547516c",
   "metadata": {},
   "outputs": [],
   "source": [
    "# Items in events vs item_properties\n",
    "items_in_events = set(events['itemid'].unique())\n",
    "items_in_properties = set(item_properties['itemid'].unique())\n",
    "\n",
    "items_both = items_in_events & items_in_properties\n",
    "items_only_events = items_in_events - items_in_properties\n",
    "items_only_properties = items_in_properties - items_in_events\n",
    "\n",
    "print(f\"\\n🔗 Events ↔ Item Properties:\")\n",
    "print(f\"  Items in BOTH: {len(items_both):,} ({len(items_both)/len(items_in_events)*100:.1f}% of events)\")\n",
    "print(f\"  Items ONLY in events: {len(items_only_events):,} (no metadata)\")\n",
    "print(f\"  Items ONLY in properties: {len(items_only_properties):,} (no interactions)\")\n"
   ]
  },
  {
   "cell_type": "code",
   "execution_count": null,
   "id": "a03fbf16",
   "metadata": {},
   "outputs": [],
   "source": [
    "# Get categoryid from properties\n",
    "items_with_cat = item_properties[item_properties['property'] == 'categoryid'][['itemid', 'value']]\n",
    "items_with_cat.columns = ['itemid', 'categoryid']\n",
    "items_with_cat['categoryid'] = pd.to_numeric(items_with_cat['categoryid'], errors='coerce')\n"
   ]
  },
  {
   "cell_type": "code",
   "execution_count": null,
   "id": "c97c2912",
   "metadata": {},
   "outputs": [],
   "source": [
    "# Categories in category_tree vs properties\n",
    "if len(items_with_cat) > 0:\n",
    "    cats_in_properties = set(items_with_cat['categoryid'].dropna().astype(int).unique())\n",
    "    cats_in_tree = set(category_tree['categoryid'].unique())\n",
    "    \n",
    "    cats_both = cats_in_properties & cats_in_tree\n",
    "    cats_only_props = cats_in_properties - cats_in_tree\n",
    "    cats_only_tree = cats_in_tree - cats_in_properties\n",
    "    \n",
    "    print(f\"\\n🔗 Item Properties ↔ Category Tree:\")\n",
    "    print(f\"  Categories in BOTH: {len(cats_both):,}\")\n",
    "    print(f\"  Categories ONLY in properties: {len(cats_only_props):,} (orphan categories)\")\n",
    "    print(f\"  Categories ONLY in tree: {len(cats_only_tree):,} (unused categories)\")\n"
   ]
  },
  {
   "cell_type": "code",
   "execution_count": null,
   "id": "16621297",
   "metadata": {},
   "outputs": [],
   "source": [
    "# Data completeness summary\n",
    "print(f\"\\n📊 Overall Data Completeness:\")\n",
    "events_with_props = events[events['itemid'].isin(items_in_properties)]\n",
    "print(f\"  Events with item metadata: {len(events_with_props):,} ({len(events_with_props)/len(events)*100:.1f}%)\")\n",
    "\n",
    "if len(items_with_cat) > 0:\n",
    "    events_with_category = events.merge(items_with_cat, on='itemid', how='inner')\n",
    "    print(f\"  Events with category info: {len(events_with_category):,} ({len(events_with_category)/len(events)*100:.1f}%)\")\n"
   ]
  },
  {
   "cell_type": "code",
   "execution_count": null,
   "id": "6d2da9be",
   "metadata": {},
   "outputs": [],
   "source": [
    "print(\"\\n🔍 Duplicates:\")\n",
    "print(f\"  Events: {events.duplicated().sum():,}\")\n",
    "print(f\"  Item Properties: {item_properties.duplicated().sum():,}\")\n",
    "print(f\"  Category Tree: {category_tree.duplicated().sum():,}\")\n"
   ]
  },
  {
   "cell_type": "code",
   "execution_count": null,
   "id": "4d2838e3",
   "metadata": {},
   "outputs": [],
   "source": [
    "print(\"\\n⚠️  Invalid Values:\")\n",
    "print(f\"  Negative item IDs in events: {(events['itemid'] < 0).sum()}\")\n",
    "print(f\"  Negative visitor IDs: {(events['visitorid'] < 0).sum()}\")\n",
    "print(f\"  Null item IDs in events: {events['itemid'].isna().sum()}\")\n",
    "print(f\"  Null visitor IDs: {events['visitorid'].isna().sum()}\")"
   ]
  },
  {
   "cell_type": "code",
   "execution_count": null,
   "id": "57999c08",
   "metadata": {},
   "outputs": [],
   "source": [
    "print(\"\\n📉 Missing Data:\")\n",
    "print(f\"  Events - missing timestamps: {events['timestamp'].isna().sum()}\")\n",
    "print(f\"  Item Properties - missing values: {item_properties['value'].isna().sum():,}\")\n",
    "print(f\"  Category Tree - missing parentid: {category_tree['parentid'].isna().sum()} (root categories)\")\n"
   ]
  },
  {
   "cell_type": "code",
   "execution_count": null,
   "id": "36bbe01f",
   "metadata": {},
   "outputs": [],
   "source": [
    "\n",
    "print(\"\\n⚠️  Challenges:\")\n",
    "if len(items_only_events) > 0:\n",
    "    print(f\"  • {len(items_only_events):,} items in events lack metadata (cold start problem)\")\n",
    "print(\"  • Item properties in long format (needs pivoting for modeling)\")\n",
    "if len(cats_only_props) > 0:\n",
    "    print(f\"  • {len(cats_only_props)} orphan categories not in tree\")"
   ]
  }
 ],
 "metadata": {
  "kernelspec": {
   "display_name": "recsys",
   "language": "python",
   "name": "python3"
  },
  "language_info": {
   "codemirror_mode": {
    "name": "ipython",
    "version": 3
   },
   "file_extension": ".py",
   "mimetype": "text/x-python",
   "name": "python",
   "nbconvert_exporter": "python",
   "pygments_lexer": "ipython3",
   "version": "3.11.13"
  }
 },
 "nbformat": 4,
 "nbformat_minor": 5
}
