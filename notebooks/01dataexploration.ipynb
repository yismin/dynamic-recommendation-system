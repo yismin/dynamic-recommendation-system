{
 "cells": [
  {
   "cell_type": "code",
   "execution_count": 2,
   "id": "406b27a8",
   "metadata": {},
   "outputs": [],
   "source": [
    "# ============================================================================\n",
    "# RETAILROCKET DATASET - EXPLORATORY DATA ANALYSIS\n",
    "# ============================================================================\n",
    "# Dataset: E-commerce user behavior (views, add-to-cart, purchases)\n",
    "# Goal: Understand user patterns, item popularity, and conversion funnels\n",
    "# ============================================================================"
   ]
  },
  {
   "cell_type": "code",
   "execution_count": 3,
   "id": "360dc37e",
   "metadata": {},
   "outputs": [],
   "source": [
    "import os\n",
    "from pathlib import Path\n",
    "import pandas as pd\n",
    "import numpy as np\n",
    "import matplotlib.pyplot as plt\n",
    "import seaborn as sns\n",
    "from datetime import datetime"
   ]
  },
  {
   "cell_type": "code",
   "execution_count": 4,
   "id": "42d736e8",
   "metadata": {},
   "outputs": [],
   "source": [
    "# Visualization settings\n",
    "plt.style.use('seaborn-v0_8-darkgrid')\n",
    "sns.set_palette(\"husl\")\n",
    "pd.set_option('display.max_columns', None)\n",
    "pd.set_option('display.width', None)"
   ]
  },
  {
   "cell_type": "code",
   "execution_count": 5,
   "id": "f775b745",
   "metadata": {},
   "outputs": [],
   "source": [
    "# ============================================================================\n",
    "# 1. PROJECT SETUP\n",
    "# ============================================================================"
   ]
  },
  {
   "cell_type": "code",
   "execution_count": 6,
   "id": "c94348ce",
   "metadata": {},
   "outputs": [
    {
     "name": "stdout",
     "output_type": "stream",
     "text": [
      "project root: c:\\Users\\yasmi\\projects\\dynamic-recommendation-system\n",
      "data dir: c:\\Users\\yasmi\\projects\\dynamic-recommendation-system\\data\\raw\\retailrocket\n",
      "files: [WindowsPath('c:/Users/yasmi/projects/dynamic-recommendation-system/data/raw/retailrocket/category_tree.csv'), WindowsPath('c:/Users/yasmi/projects/dynamic-recommendation-system/data/raw/retailrocket/events.csv'), WindowsPath('c:/Users/yasmi/projects/dynamic-recommendation-system/data/raw/retailrocket/item_properties_part1.csv'), WindowsPath('c:/Users/yasmi/projects/dynamic-recommendation-system/data/raw/retailrocket/item_properties_part2.csv')]\n"
     ]
    }
   ],
   "source": [
    "# Setup project paths (portable & reusable)\n",
    "# - Prints current working directory (for debugging)\n",
    "# - Defines PROJECT_ROOT as the main project folder\n",
    "# - Builds a reusable DATA_DIR path to raw data\n",
    "\n",
    "cwd = Path(os.getcwd())\n",
    "if (cwd / \"data\").exists():\n",
    "    PROJECT_ROOT = cwd\n",
    "else:\n",
    "    PROJECT_ROOT = cwd.parent  \n",
    "print(\"project root:\", PROJECT_ROOT)\n",
    "\n",
    "DATA_DIR = PROJECT_ROOT / \"data\" / \"raw\" / \"retailrocket\"\n",
    "print(\"data dir:\", DATA_DIR)\n",
    "print(\"files:\", list(DATA_DIR.glob(\"*\"))[:10])  "
   ]
  },
  {
   "cell_type": "code",
   "execution_count": 7,
   "id": "3394e322",
   "metadata": {},
   "outputs": [],
   "source": [
    "# ============================================================================\n",
    "# 2. DATA LOADING\n",
    "# ============================================================================"
   ]
  },
  {
   "cell_type": "code",
   "execution_count": 8,
   "id": "fdcbe70e",
   "metadata": {},
   "outputs": [],
   "source": [
    "events = pd.read_csv(DATA_DIR / \"events.csv\",dtype={'timestamp': 'int64'})\n",
    "category_tree = pd.read_csv(DATA_DIR / \"category_tree.csv\")\n",
    "prop1 = pd.read_csv(DATA_DIR / \"item_properties_part1.csv\",dtype={'timestamp': 'int64'})\n",
    "prop2 = pd.read_csv(DATA_DIR / \"item_properties_part2.csv\",dtype={'timestamp': 'int64'})"
   ]
  },
  {
   "cell_type": "code",
   "execution_count": 9,
   "id": "07ead8c5",
   "metadata": {},
   "outputs": [],
   "source": [
    "# Merging properties\n",
    "item_properties = pd.concat([prop1, prop2], ignore_index=True)"
   ]
  },
  {
   "cell_type": "code",
   "execution_count": 10,
   "id": "7c75e12c",
   "metadata": {},
   "outputs": [
    {
     "name": "stdout",
     "output_type": "stream",
     "text": [
      "Item properties merged: (20275902, 4) (part1: (10999999, 4), part2: (9275903, 4))\n"
     ]
    }
   ],
   "source": [
    "print(f\"Item properties merged: {item_properties.shape} (part1: {prop1.shape}, part2: {prop2.shape})\")\n"
   ]
  },
  {
   "cell_type": "code",
   "execution_count": 11,
   "id": "c4daf979",
   "metadata": {},
   "outputs": [],
   "source": [
    "# ============================================================================\n",
    "# 3. INITIAL DATA OVERVIEW\n",
    "# ============================================================================"
   ]
  },
  {
   "cell_type": "code",
   "execution_count": 12,
   "id": "6b73d238",
   "metadata": {},
   "outputs": [
    {
     "name": "stdout",
     "output_type": "stream",
     "text": [
      "\n",
      "EVENTS\n",
      "Shape: (2756101, 5)\n",
      "Columns: ['timestamp', 'visitorid', 'event', 'itemid', 'transactionid']\n",
      "Memory: 256.82 MB\n",
      "\n",
      "First 3 rows:\n",
      "    timestamp  visitorid event  itemid  transactionid\n",
      "1433221332117     257597  view  355908            NaN\n",
      "1433224214164     992329  view  248676            NaN\n",
      "1433221999827     111016  view  318965            NaN\n",
      "Nulls:\n",
      "timestamp              0\n",
      "visitorid              0\n",
      "event                  0\n",
      "itemid                 0\n",
      "transactionid    2733644\n",
      "dtype: int64\n",
      "\n",
      "CATEGORY_TREE\n",
      "Shape: (1669, 2)\n",
      "Columns: ['categoryid', 'parentid']\n",
      "Memory: 0.03 MB\n",
      "\n",
      "First 3 rows:\n",
      " categoryid  parentid\n",
      "       1016     213.0\n",
      "        809     169.0\n",
      "        570       9.0\n",
      "Nulls:\n",
      "categoryid     0\n",
      "parentid      25\n",
      "dtype: int64\n",
      "\n",
      "ITEM_PROPERTIES\n",
      "Shape: (20275902, 4)\n",
      "Columns: ['timestamp', 'itemid', 'property', 'value']\n",
      "Memory: 3067.60 MB\n",
      "\n",
      "First 3 rows:\n",
      "    timestamp  itemid   property                           value\n",
      "1435460400000  460429 categoryid                            1338\n",
      "1441508400000  206783        888         1116713 960601 n277.200\n",
      "1439089200000  395014        400 n552.000 639502 n720.000 424566\n",
      "Nulls:\n",
      "timestamp    0\n",
      "itemid       0\n",
      "property     0\n",
      "value        0\n",
      "dtype: int64\n"
     ]
    }
   ],
   "source": [
    "datasets = {\n",
    "    'events': events,\n",
    "    'category_tree': category_tree,\n",
    "    'item_properties': item_properties\n",
    "}\n",
    "\n",
    "for name, df in datasets.items():\n",
    "    print(f\"\\n{name.upper()}\")\n",
    "    print(f\"Shape: {df.shape}\")\n",
    "    print(f\"Columns: {list(df.columns)}\")\n",
    "    print(f\"Memory: {df.memory_usage(deep=True).sum() / 1e6:.2f} MB\")\n",
    "    print(f\"\\nFirst 3 rows:\")\n",
    "    print(df.head(3).to_string(index=False))\n",
    "    print(f\"Nulls:\\n{df.isna().sum()}\")"
   ]
  },
  {
   "cell_type": "code",
   "execution_count": 13,
   "id": "070ae111",
   "metadata": {},
   "outputs": [],
   "source": [
    "# ============================================================================\n",
    "# 4. EVENTS - PREPROCESSING & ANALYSIS\n",
    "# ============================================================================"
   ]
  },
  {
   "cell_type": "code",
   "execution_count": 14,
   "id": "3412ee35",
   "metadata": {},
   "outputs": [],
   "source": [
    "# Convert timestamp\n",
    "events['timestamp'] = pd.to_datetime(events['timestamp'], unit='ms')\n",
    "events['date'] = events['timestamp'].dt.date\n",
    "events['hour'] = events['timestamp'].dt.hour\n",
    "events['dayofweek'] = events['timestamp'].dt.dayofweek\n",
    "events['day_name'] = events['timestamp'].dt.day_name()"
   ]
  },
  {
   "cell_type": "code",
   "execution_count": 15,
   "id": "e3ee6ee4",
   "metadata": {},
   "outputs": [
    {
     "name": "stdout",
     "output_type": "stream",
     "text": [
      "\n",
      "unique counts (sample):\n",
      "visitorid unique: 1407580\n",
      "itemid unique: 235061\n",
      "event unique: 3\n",
      "\n",
      "Top 10 items (by events):\n",
      " itemid\n",
      "187946    3412\n",
      "461686    2978\n",
      "5411      2334\n",
      "370653    1854\n",
      "219512    1800\n",
      "257040    1647\n",
      "298009    1642\n",
      "96924     1633\n",
      "309778    1628\n",
      "384302    1608\n",
      "Name: count, dtype: int64\n",
      "\n",
      "Top 10 users (by events):\n",
      " visitorid\n",
      "1150086    7757\n",
      "530559     4328\n",
      "152963     3024\n",
      "895999     2474\n",
      "163561     2410\n",
      "371606     2345\n",
      "286616     2252\n",
      "684514     2246\n",
      "892013     2024\n",
      "861299     1991\n",
      "Name: count, dtype: int64\n"
     ]
    }
   ],
   "source": [
    "item_col =\"itemid\"\n",
    "user_col = \"visitorid\"\n",
    "event_col = \"event\" \n",
    "\n",
    "# unique counts\n",
    "print(\"\\nunique counts (sample):\")\n",
    "for c in [user_col, item_col, event_col]:\n",
    "    if c in events.columns:\n",
    "        print(c, \"unique:\", events[c].nunique())\n",
    "\n",
    "\n",
    "# top products and top users in the sample\n",
    "print(\"\\nTop 10 items (by events):\\n\", events[item_col].value_counts().head(10))\n",
    "print(\"\\nTop 10 users (by events):\\n\", events[user_col].value_counts().head(10))"
   ]
  },
  {
   "cell_type": "code",
   "execution_count": 16,
   "id": "3c0209f5",
   "metadata": {},
   "outputs": [
    {
     "name": "stdout",
     "output_type": "stream",
     "text": [
      "\n",
      "Basic Statistics:\n",
      "  Total events: 2,756,101\n",
      "  Unique visitors: 1,407,580\n",
      "  Unique items: 235,061\n",
      "  Date range: 2015-05-03 03:00:04.384000 to 2015-09-18 02:59:47.788000\n",
      "  Days span: 137 days\n"
     ]
    }
   ],
   "source": [
    "#Basic Statistics\n",
    "print(f\"\\nBasic Statistics:\")\n",
    "print(f\"  Total events: {len(events):,}\")\n",
    "print(f\"  Unique visitors: {events['visitorid'].nunique():,}\")\n",
    "print(f\"  Unique items: {events['itemid'].nunique():,}\")\n",
    "print(f\"  Date range: {events['timestamp'].min()} to {events['timestamp'].max()}\")\n",
    "print(f\"  Days span: {(events['timestamp'].max() - events['timestamp'].min()).days} days\")"
   ]
  },
  {
   "cell_type": "code",
   "execution_count": 17,
   "id": "b6c20dc9",
   "metadata": {},
   "outputs": [
    {
     "name": "stdout",
     "output_type": "stream",
     "text": [
      "\n",
      "Event Type Distribution:\n",
      "  view: 2,664,312 (96.67%)\n",
      "  addtocart: 69,332 (2.52%)\n",
      "  transaction: 22,457 (0.81%)\n"
     ]
    }
   ],
   "source": [
    "print(\"\\nEvent Type Distribution:\")\n",
    "event_dist = events['event'].value_counts()\n",
    "for event_type, count in event_dist.items():\n",
    "    pct = count / len(events) * 100\n",
    "    print(f\"  {event_type}: {count:,} ({pct:.2f}%)\")"
   ]
  },
  {
   "cell_type": "code",
   "execution_count": 18,
   "id": "e763dbaf",
   "metadata": {},
   "outputs": [
    {
     "name": "stdout",
     "output_type": "stream",
     "text": [
      "\n",
      "Conversion Funnel:\n",
      "  Views → AddToCart: 2.60%\n",
      "  Views → Purchase: 0.84%\n",
      "  AddToCart → Purchase: 32.39%\n"
     ]
    }
   ],
   "source": [
    "# Conversion metrics\n",
    "total_views = event_dist.get('view', 0)\n",
    "total_addtocart = event_dist.get('addtocart', 0)\n",
    "total_transactions = event_dist.get('transaction', 0)\n",
    "\n",
    "print(\"\\nConversion Funnel:\")\n",
    "print(f\"  Views → AddToCart: {total_addtocart/total_views*100:.2f}%\" if total_views > 0 else \"N/A\")\n",
    "print(f\"  Views → Purchase: {total_transactions/total_views*100:.2f}%\" if total_views > 0 else \"N/A\")\n",
    "print(f\"  AddToCart → Purchase: {total_transactions/total_addtocart*100:.2f}%\" if total_addtocart > 0 else \"N/A\")"
   ]
  },
  {
   "cell_type": "code",
   "execution_count": 19,
   "id": "a9a2222d",
   "metadata": {},
   "outputs": [
    {
     "name": "stdout",
     "output_type": "stream",
     "text": [
      "2015-05-03 03:00:04.384000\n",
      "2015-09-18 02:59:47.788000\n"
     ]
    }
   ],
   "source": [
    "print(events['timestamp'].min())\n",
    "print(events['timestamp'].max())"
   ]
  },
  {
   "cell_type": "code",
   "execution_count": 20,
   "id": "ed689b35",
   "metadata": {},
   "outputs": [],
   "source": [
    "# ============================================================================\n",
    "# 5. ITEM PROPERTIES - analysis\n",
    "# ============================================================================\n"
   ]
  },
  {
   "cell_type": "code",
   "execution_count": 21,
   "id": "fdba8b9c",
   "metadata": {},
   "outputs": [],
   "source": [
    "# Convert timestamp\n",
    "item_properties['timestamp'] = pd.to_datetime(item_properties['timestamp'], unit='ms')\n"
   ]
  },
  {
   "cell_type": "code",
   "execution_count": 22,
   "id": "72f5c4ce",
   "metadata": {},
   "outputs": [
    {
     "name": "stdout",
     "output_type": "stream",
     "text": [
      "\n",
      "Basic Statistics:\n",
      "  Total property records: 20,275,902\n",
      "  Unique items: 417,053\n",
      "  Unique properties: 1104\n",
      "  Date range: 2015-05-10 03:00:00 to 2015-09-13 03:00:00\n"
     ]
    }
   ],
   "source": [
    "print(f\"\\nBasic Statistics:\")\n",
    "print(f\"  Total property records: {len(item_properties):,}\")\n",
    "print(f\"  Unique items: {item_properties['itemid'].nunique():,}\")\n",
    "print(f\"  Unique properties: {item_properties['property'].nunique()}\")\n",
    "print(f\"  Date range: {item_properties['timestamp'].min()} to {item_properties['timestamp'].max()}\")\n"
   ]
  },
  {
   "cell_type": "code",
   "execution_count": 43,
   "id": "c1af44d6",
   "metadata": {},
   "outputs": [
    {
     "name": "stdout",
     "output_type": "stream",
     "text": [
      "\n",
      "📋 Property Types Overview:\n",
      "  Total unique property types: 1,104\n",
      "\n",
      "  Top 10 Most Common Properties:\n",
      "    888: 3,000,398 records across 417,053 items\n",
      "    790: 1,790,516 records across 417,053 items\n",
      "    available: 1,503,639 records across 417,053 items\n",
      "    categoryid: 788,214 records across 417,053 items\n",
      "    6: 631,471 records across 409,065 items\n",
      "    283: 597,419 records across 417,053 items\n",
      "    776: 574,220 records across 407,305 items\n",
      "    678: 481,966 records across 417,019 items\n",
      "    364: 476,486 records across 417,053 items\n",
      "    202: 448,938 records across 414,217 items\n"
     ]
    }
   ],
   "source": [
    "print(\"\\n📋 Property Types Overview:\")\n",
    "prop_counts = item_properties['property'].value_counts()\n",
    "print(f\"  Total unique property types: {len(prop_counts):,}\")\n",
    "\n",
    "# Show only the most common properties (top 10)\n",
    "print(f\"\\n  Top 10 Most Common Properties:\")\n",
    "for prop, count in prop_counts.head(10).items():\n",
    "    unique_items = item_properties[item_properties['property'] == prop]['itemid'].nunique()\n",
    "    print(f\"    {prop}: {count:,} records across {unique_items:,} items\")\n"
   ]
  },
  {
   "cell_type": "code",
   "execution_count": 24,
   "id": "4df8dc97",
   "metadata": {},
   "outputs": [
    {
     "name": "stdout",
     "output_type": "stream",
     "text": [
      "\n",
      "📊 Property Coverage per Item:\n",
      "  Items with 1 property: 0\n",
      "  Items with 2+ properties: 417,053\n",
      "  Items with 5+ properties: 417,053\n"
     ]
    }
   ],
   "source": [
    "# Property coverage per item\n",
    "print(\"\\n📊 Property Coverage per Item:\")\n",
    "props_per_item = item_properties.groupby('itemid')['property'].nunique()\n",
    "print(f\"  Items with 1 property: {(props_per_item == 1).sum():,}\")\n",
    "print(f\"  Items with 2+ properties: {(props_per_item >= 2).sum():,}\")\n",
    "print(f\"  Items with 5+ properties: {(props_per_item >= 5).sum():,}\")\n"
   ]
  },
  {
   "cell_type": "code",
   "execution_count": 25,
   "id": "c48465d7",
   "metadata": {},
   "outputs": [
    {
     "name": "stdout",
     "output_type": "stream",
     "text": [
      "\n",
      "🔍 Sample Item Properties:\n",
      "Item 406081 (has 56 properties, showing first 5):\n",
      " property                         value\n",
      "      355                        586893\n",
      "      523 991263 1238769 126079 1141242\n",
      "available                             0\n",
      "      678                        367680\n",
      "      981    288796 23770 769062 769062\n",
      "  ... and 51 more properties\n"
     ]
    }
   ],
   "source": [
    "# Sample item with all properties\n",
    "print(\"\\n🔍 Sample Item Properties:\")\n",
    "# Find an item with many properties but not the absolute max (which might be an outlier)\n",
    "props_per_item_sorted = item_properties.groupby('itemid')['property'].nunique().sort_values(ascending=False)\n",
    "sample_item = props_per_item_sorted.iloc[min(10, len(props_per_item_sorted)-1)]  # 11th item or last\n",
    "sample_item_id = props_per_item_sorted.index[min(10, len(props_per_item_sorted)-1)]\n",
    "sample_props = item_properties[item_properties['itemid'] == sample_item_id][['property', 'value']].head(5)\n",
    "print(f\"Item {sample_item_id} (has {sample_item} properties, showing first 5):\")\n",
    "print(sample_props.to_string(index=False))\n",
    "if sample_item > 5:\n",
    "    print(f\"  ... and {sample_item - 5} more properties\")"
   ]
  },
  {
   "cell_type": "code",
   "execution_count": 26,
   "id": "1314a46f",
   "metadata": {},
   "outputs": [],
   "source": [
    "# ============================================================================\n",
    "# 6. CATEGORY TREE - HIERARCHY ANALYSIS\n",
    "# ============================================================================"
   ]
  },
  {
   "cell_type": "code",
   "execution_count": 27,
   "id": "ff393ee4",
   "metadata": {},
   "outputs": [
    {
     "name": "stdout",
     "output_type": "stream",
     "text": [
      "\n",
      "Basic Statistics:\n",
      "  Total categories: 1,669\n",
      "  Unique category IDs: 1,669\n",
      "  Unique parent IDs: 362\n"
     ]
    }
   ],
   "source": [
    "print(f\"\\nBasic Statistics:\")\n",
    "print(f\"  Total categories: {len(category_tree):,}\")\n",
    "print(f\"  Unique category IDs: {category_tree['categoryid'].nunique():,}\")\n",
    "print(f\"  Unique parent IDs: {category_tree['parentid'].nunique():,}\")\n"
   ]
  },
  {
   "cell_type": "code",
   "execution_count": 28,
   "id": "0809b766",
   "metadata": {},
   "outputs": [
    {
     "name": "stdout",
     "output_type": "stream",
     "text": [
      "\n",
      "Basic Statistics:\n",
      "  Total categories: 1,669\n",
      "  Unique category IDs: 1,669\n",
      "  Unique parent IDs: 362\n"
     ]
    }
   ],
   "source": [
    "print(f\"\\nBasic Statistics:\")\n",
    "print(f\"  Total categories: {len(category_tree):,}\")\n",
    "print(f\"  Unique category IDs: {category_tree['categoryid'].nunique():,}\")\n",
    "print(f\"  Unique parent IDs: {category_tree['parentid'].nunique():,}\")"
   ]
  },
  {
   "cell_type": "code",
   "execution_count": 29,
   "id": "6d5e927f",
   "metadata": {},
   "outputs": [
    {
     "name": "stdout",
     "output_type": "stream",
     "text": [
      "\n",
      " Root Categories (top-level): 25\n"
     ]
    }
   ],
   "source": [
    "# Root categories (no parent)\n",
    "root_categories = category_tree[category_tree['parentid'].isna()]\n",
    "print(f\"\\n Root Categories (top-level): {len(root_categories)}\")"
   ]
  },
  {
   "cell_type": "code",
   "execution_count": 30,
   "id": "f5f679cb",
   "metadata": {},
   "outputs": [
    {
     "name": "stdout",
     "output_type": "stream",
     "text": [
      "\n",
      "📏 Category Hierarchy Depth Analysis:\n"
     ]
    }
   ],
   "source": [
    "# Depth analysis - optimized with dictionary lookup\n",
    "print(\"\\n📏 Category Hierarchy Depth Analysis:\")\n",
    "\n",
    "# Create parent lookup dictionary for faster access\n",
    "parent_lookup = dict(zip(category_tree['categoryid'], category_tree['parentid']))\n",
    "def get_category_depth_fast(cat_id, parent_dict, max_depth=20):\n",
    "    \"\"\"Calculate depth using dictionary lookup (much faster)\"\"\"\n",
    "    depth = 0\n",
    "    current = cat_id\n",
    "    visited = set()\n",
    "    \n",
    "    while depth < max_depth and current in parent_dict:\n",
    "        if current in visited:  # Detect cycles\n",
    "            return -1\n",
    "        visited.add(current)\n",
    "        \n",
    "        parent = parent_dict[current]\n",
    "        if pd.isna(parent):\n",
    "            return depth\n",
    "        current = parent\n",
    "        depth += 1\n",
    "    \n",
    "    return depth\n"
   ]
  },
  {
   "cell_type": "code",
   "execution_count": 31,
   "id": "80a5edc8",
   "metadata": {},
   "outputs": [],
   "source": [
    "# Sample categories for depth calculation (or use all if not too many)\n",
    "sample_size = min(1000, len(category_tree))\n",
    "sample_cats = category_tree['categoryid'].sample(sample_size).tolist()\n",
    "depths = [get_category_depth_fast(cat, parent_lookup) for cat in sample_cats]\n",
    "valid_depths = [d for d in depths if d >= 0]  # Filter out cycles"
   ]
  },
  {
   "cell_type": "code",
   "execution_count": 32,
   "id": "7cf70bd5",
   "metadata": {},
   "outputs": [
    {
     "name": "stdout",
     "output_type": "stream",
     "text": [
      "  Sample size: 1000 categories\n",
      "  Min depth: 0\n",
      "  Max depth: 5\n",
      "  Avg depth: 2.42\n"
     ]
    }
   ],
   "source": [
    "if valid_depths:\n",
    "    print(f\"  Sample size: {len(valid_depths)} categories\")\n",
    "    print(f\"  Min depth: {min(valid_depths)}\")\n",
    "    print(f\"  Max depth: {max(valid_depths)}\")\n",
    "    print(f\"  Avg depth: {np.mean(valid_depths):.2f}\")\n",
    "    if len(depths) != len(valid_depths):\n",
    "        print(f\"  ⚠️  Circular references detected: {len(depths) - len(valid_depths)}\")\n",
    "else:\n",
    "    print(\"  Could not calculate depths (possible data issues)\")"
   ]
  },
  {
   "cell_type": "code",
   "execution_count": 33,
   "id": "061ac41b",
   "metadata": {},
   "outputs": [
    {
     "name": "stdout",
     "output_type": "stream",
     "text": [
      "\n",
      "👶 Categories with Children:\n",
      "  Categories that are parents: 362\n",
      "  Max children per category: 31\n",
      "  Avg children per parent: 4.54\n"
     ]
    }
   ],
   "source": [
    "# Categories with children\n",
    "cats_with_children = category_tree['parentid'].value_counts()\n",
    "print(f\"\\n👶 Categories with Children:\")\n",
    "print(f\"  Categories that are parents: {len(cats_with_children)}\")\n",
    "print(f\"  Max children per category: {cats_with_children.max()}\")\n",
    "print(f\"  Avg children per parent: {cats_with_children.mean():.2f}\")"
   ]
  },
  {
   "cell_type": "code",
   "execution_count": 34,
   "id": "3547516c",
   "metadata": {},
   "outputs": [
    {
     "name": "stdout",
     "output_type": "stream",
     "text": [
      "\n",
      "🔗 Events ↔ Item Properties:\n",
      "  Items in BOTH: 185,246 (78.8% of events)\n",
      "  Items ONLY in events: 49,815 (no metadata)\n",
      "  Items ONLY in properties: 231,807 (no interactions)\n"
     ]
    }
   ],
   "source": [
    "# Items in events vs item_properties\n",
    "items_in_events = set(events['itemid'].unique())\n",
    "items_in_properties = set(item_properties['itemid'].unique())\n",
    "\n",
    "items_both = items_in_events & items_in_properties\n",
    "items_only_events = items_in_events - items_in_properties\n",
    "items_only_properties = items_in_properties - items_in_events\n",
    "\n",
    "print(f\"\\n🔗 Events ↔ Item Properties:\")\n",
    "print(f\"  Items in BOTH: {len(items_both):,} ({len(items_both)/len(items_in_events)*100:.1f}% of events)\")\n",
    "print(f\"  Items ONLY in events: {len(items_only_events):,} (no metadata)\")\n",
    "print(f\"  Items ONLY in properties: {len(items_only_properties):,} (no interactions)\")\n"
   ]
  },
  {
   "cell_type": "code",
   "execution_count": 35,
   "id": "a03fbf16",
   "metadata": {},
   "outputs": [],
   "source": [
    "# Get categoryid from properties\n",
    "items_with_cat = item_properties[item_properties['property'] == 'categoryid'][['itemid', 'value']]\n",
    "items_with_cat.columns = ['itemid', 'categoryid']\n",
    "items_with_cat['categoryid'] = pd.to_numeric(items_with_cat['categoryid'], errors='coerce')\n"
   ]
  },
  {
   "cell_type": "code",
   "execution_count": 36,
   "id": "c97c2912",
   "metadata": {},
   "outputs": [
    {
     "name": "stdout",
     "output_type": "stream",
     "text": [
      "\n",
      "🔗 Item Properties ↔ Category Tree:\n",
      "  Categories in BOTH: 1,212\n",
      "  Categories ONLY in properties: 30 (orphan categories)\n",
      "  Categories ONLY in tree: 457 (unused categories)\n"
     ]
    }
   ],
   "source": [
    "# Categories in category_tree vs properties\n",
    "if len(items_with_cat) > 0:\n",
    "    cats_in_properties = set(items_with_cat['categoryid'].dropna().astype(int).unique())\n",
    "    cats_in_tree = set(category_tree['categoryid'].unique())\n",
    "    \n",
    "    cats_both = cats_in_properties & cats_in_tree\n",
    "    cats_only_props = cats_in_properties - cats_in_tree\n",
    "    cats_only_tree = cats_in_tree - cats_in_properties\n",
    "    \n",
    "    print(f\"\\n🔗 Item Properties ↔ Category Tree:\")\n",
    "    print(f\"  Categories in BOTH: {len(cats_both):,}\")\n",
    "    print(f\"  Categories ONLY in properties: {len(cats_only_props):,} (orphan categories)\")\n",
    "    print(f\"  Categories ONLY in tree: {len(cats_only_tree):,} (unused categories)\")\n"
   ]
  },
  {
   "cell_type": "code",
   "execution_count": 37,
   "id": "16621297",
   "metadata": {},
   "outputs": [
    {
     "name": "stdout",
     "output_type": "stream",
     "text": [
      "\n",
      "📊 Overall Data Completeness:\n",
      "  Events with item metadata: 2,500,516 (90.7%)\n",
      "  Events with category info: 5,644,678 (204.8%)\n"
     ]
    }
   ],
   "source": [
    "# Data completeness summary\n",
    "print(f\"\\n📊 Overall Data Completeness:\")\n",
    "events_with_props = events[events['itemid'].isin(items_in_properties)]\n",
    "print(f\"  Events with item metadata: {len(events_with_props):,} ({len(events_with_props)/len(events)*100:.1f}%)\")\n",
    "\n",
    "if len(items_with_cat) > 0:\n",
    "    events_with_category = events.merge(items_with_cat, on='itemid', how='inner')\n",
    "    print(f\"  Events with category info: {len(events_with_category):,} ({len(events_with_category)/len(events)*100:.1f}%)\")\n"
   ]
  },
  {
   "cell_type": "code",
   "execution_count": 38,
   "id": "6d2da9be",
   "metadata": {},
   "outputs": [
    {
     "name": "stdout",
     "output_type": "stream",
     "text": [
      "\n",
      "🔍 Duplicates:\n",
      "  Events: 460\n",
      "  Item Properties: 0\n",
      "  Category Tree: 0\n"
     ]
    }
   ],
   "source": [
    "print(\"\\n🔍 Duplicates:\")\n",
    "print(f\"  Events: {events.duplicated().sum():,}\")\n",
    "print(f\"  Item Properties: {item_properties.duplicated().sum():,}\")\n",
    "print(f\"  Category Tree: {category_tree.duplicated().sum():,}\")\n"
   ]
  },
  {
   "cell_type": "code",
   "execution_count": 39,
   "id": "4d2838e3",
   "metadata": {},
   "outputs": [
    {
     "name": "stdout",
     "output_type": "stream",
     "text": [
      "\n",
      "⚠️  Invalid Values:\n",
      "  Negative item IDs in events: 0\n",
      "  Negative visitor IDs: 0\n",
      "  Null item IDs in events: 0\n",
      "  Null visitor IDs: 0\n"
     ]
    }
   ],
   "source": [
    "print(\"\\n⚠️  Invalid Values:\")\n",
    "print(f\"  Negative item IDs in events: {(events['itemid'] < 0).sum()}\")\n",
    "print(f\"  Negative visitor IDs: {(events['visitorid'] < 0).sum()}\")\n",
    "print(f\"  Null item IDs in events: {events['itemid'].isna().sum()}\")\n",
    "print(f\"  Null visitor IDs: {events['visitorid'].isna().sum()}\")"
   ]
  },
  {
   "cell_type": "code",
   "execution_count": 40,
   "id": "57999c08",
   "metadata": {},
   "outputs": [
    {
     "name": "stdout",
     "output_type": "stream",
     "text": [
      "\n",
      "📉 Missing Data:\n",
      "  Events - missing timestamps: 0\n",
      "  Item Properties - missing values: 0\n",
      "  Category Tree - missing parentid: 25 (root categories)\n"
     ]
    }
   ],
   "source": [
    "print(\"\\n📉 Missing Data:\")\n",
    "print(f\"  Events - missing timestamps: {events['timestamp'].isna().sum()}\")\n",
    "print(f\"  Item Properties - missing values: {item_properties['value'].isna().sum():,}\")\n",
    "print(f\"  Category Tree - missing parentid: {category_tree['parentid'].isna().sum()} (root categories)\")\n"
   ]
  },
  {
   "cell_type": "code",
   "execution_count": 41,
   "id": "36bbe01f",
   "metadata": {},
   "outputs": [
    {
     "name": "stdout",
     "output_type": "stream",
     "text": [
      "\n",
      "⚠️  Challenges:\n",
      "  • 49,815 items in events lack metadata (cold start problem)\n",
      "  • Item properties in long format (needs pivoting for modeling)\n",
      "  • 30 orphan categories not in tree\n"
     ]
    }
   ],
   "source": [
    "\n",
    "print(\"\\n⚠️  Challenges:\")\n",
    "if len(items_only_events) > 0:\n",
    "    print(f\"  • {len(items_only_events):,} items in events lack metadata (cold start problem)\")\n",
    "print(\"  • Item properties in long format (needs pivoting for modeling)\")\n",
    "if len(cats_only_props) > 0:\n",
    "    print(f\"  • {len(cats_only_props)} orphan categories not in tree\")"
   ]
  }
 ],
 "metadata": {
  "kernelspec": {
   "display_name": "recsys",
   "language": "python",
   "name": "python3"
  },
  "language_info": {
   "codemirror_mode": {
    "name": "ipython",
    "version": 3
   },
   "file_extension": ".py",
   "mimetype": "text/x-python",
   "name": "python",
   "nbconvert_exporter": "python",
   "pygments_lexer": "ipython3",
   "version": "3.11.13"
  }
 },
 "nbformat": 4,
 "nbformat_minor": 5
}
