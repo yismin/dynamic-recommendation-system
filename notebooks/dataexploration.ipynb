{
 "cells": [
  {
   "cell_type": "code",
   "execution_count": null,
   "id": "406b27a8",
   "metadata": {},
   "outputs": [],
   "source": [
    "# ============================================================================\n",
    "# RETAILROCKET DATASET - EXPLORATORY DATA ANALYSIS\n",
    "# ============================================================================\n",
    "# Dataset: E-commerce user behavior (views, add-to-cart, purchases)\n",
    "# Goal: Understand user patterns, item popularity, and conversion funnels\n",
    "# ============================================================================"
   ]
  },
  {
   "cell_type": "code",
   "execution_count": null,
   "id": "360dc37e",
   "metadata": {},
   "outputs": [],
   "source": [
    "import os\n",
    "from pathlib import Path\n",
    "import pandas as pd\n",
    "import numpy as np\n",
    "import matplotlib.pyplot as plt\n",
    "import seaborn as sns\n",
    "from datetime import datetime"
   ]
  },
  {
   "cell_type": "code",
   "execution_count": null,
   "id": "42d736e8",
   "metadata": {},
   "outputs": [],
   "source": [
    "# Visualization settings\n",
    "plt.style.use('seaborn-v0_8-darkgrid')\n",
    "sns.set_palette(\"husl\")\n",
    "pd.set_option('display.max_columns', None)\n",
    "pd.set_option('display.width', None)"
   ]
  },
  {
   "cell_type": "code",
   "execution_count": null,
   "id": "f775b745",
   "metadata": {},
   "outputs": [],
   "source": [
    "# ============================================================================\n",
    "# 1. PROJECT SETUP\n",
    "# ============================================================================"
   ]
  },
  {
   "cell_type": "code",
   "execution_count": null,
   "id": "c94348ce",
   "metadata": {},
   "outputs": [],
   "source": [
    "# Setup project paths (portable & reusable)\n",
    "# - Prints current working directory (for debugging)\n",
    "# - Defines PROJECT_ROOT as the main project folder\n",
    "# - Builds a reusable DATA_DIR path to raw data\n",
    "\n",
    "cwd = Path(os.getcwd())\n",
    "if (cwd / \"data\").exists():\n",
    "    PROJECT_ROOT = cwd\n",
    "else:\n",
    "    PROJECT_ROOT = cwd.parent  \n",
    "print(\"project root:\", PROJECT_ROOT)\n",
    "\n",
    "DATA_DIR = PROJECT_ROOT / \"data\" / \"raw\" / \"retailrocket\"\n",
    "print(\"data dir:\", DATA_DIR)\n",
    "print(\"files:\", list(DATA_DIR.glob(\"*\"))[:10])  "
   ]
  },
  {
   "cell_type": "code",
   "execution_count": null,
   "id": "3394e322",
   "metadata": {},
   "outputs": [],
   "source": [
    "# ============================================================================\n",
    "# 2. DATA LOADING\n",
    "# ============================================================================"
   ]
  },
  {
   "cell_type": "code",
   "execution_count": null,
   "id": "fdcbe70e",
   "metadata": {},
   "outputs": [],
   "source": [
    "events = pd.read_csv(DATA_DIR / \"events.csv\",dtype={'timestamp': 'int64'})\n",
    "category_tree = pd.read_csv(DATA_DIR / \"category_tree.csv\")\n",
    "prop1 = pd.read_csv(DATA_DIR / \"item_properties_part1.csv\",dtype={'timestamp': 'int64'})\n",
    "prop2 = pd.read_csv(DATA_DIR / \"item_properties_part2.csv\",dtype={'timestamp': 'int64'})"
   ]
  },
  {
   "cell_type": "code",
   "execution_count": null,
   "id": "07ead8c5",
   "metadata": {},
   "outputs": [],
   "source": [
    "# Merging properties\n",
    "item_properties = pd.concat([prop1, prop2], ignore_index=True)"
   ]
  },
  {
   "cell_type": "code",
   "execution_count": 67,
   "id": "7c75e12c",
   "metadata": {},
   "outputs": [
    {
     "name": "stdout",
     "output_type": "stream",
     "text": [
      "✓ Item properties merged: (20275902, 4) (part1: (10999999, 4), part2: (9275903, 4))\n",
      "\n"
     ]
    }
   ],
   "source": [
    "print(f\"✓ Item properties merged: {item_properties.shape} (part1: {prop1.shape}, part2: {prop2.shape})\")\n",
    "print()"
   ]
  },
  {
   "cell_type": "code",
   "execution_count": null,
   "id": "c4daf979",
   "metadata": {},
   "outputs": [],
   "source": [
    "# ============================================================================\n",
    "# 3. INITIAL DATA OVERVIEW\n",
    "# ============================================================================"
   ]
  },
  {
   "cell_type": "code",
   "execution_count": null,
   "id": "5b00d54a",
   "metadata": {},
   "outputs": [],
   "source": [
    "for f in DATA_DIR.iterdir():\n",
    "    if f.suffix.lower() in [\".csv\"]:\n",
    "        print(f.name, \"size(MB)=\", round(f.stat().st_size/1e6,2))\n",
    "        print(pd.read_csv(f, nrows=3).head(3).to_string(index=False))\n",
    "        print(\"-\"*60)\n"
   ]
  },
  {
   "cell_type": "code",
   "execution_count": null,
   "id": "061b8d60",
   "metadata": {},
   "outputs": [],
   "source": [
    "# Inspecting Events \n",
    "print(\"columns:\", list(events.columns))\n",
    "print(\"\\ninfo:\")\n",
    "print(\"null counts:\\n\", events.isna().sum())\n",
    "display(events.describe(include='all').T)\n"
   ]
  },
  {
   "cell_type": "code",
   "execution_count": null,
   "id": "bad6019d",
   "metadata": {},
   "outputs": [],
   "source": [
    "# Inspecting Category Tree\n",
    "print(\"columns:\", list(category_tree.columns))\n",
    "print(\"\\ninfo:\")\n",
    "print(\"null counts:\\n\", category_tree.isna().sum())\n",
    "display(category_tree.describe(include='all').T)\n"
   ]
  },
  {
   "cell_type": "code",
   "execution_count": null,
   "id": "731f51f2",
   "metadata": {},
   "outputs": [],
   "source": [
    "# Inspecting Item Properties \n",
    "print(\"columns:\", list(item_properties.columns))\n",
    "print(\"\\ninfo:\")\n",
    "print(\"null counts:\\n\", item_properties.isna().sum())\n",
    "display(item_properties.describe(include='all').T)\n"
   ]
  },
  {
   "cell_type": "code",
   "execution_count": null,
   "id": "23e6c371",
   "metadata": {},
   "outputs": [],
   "source": [
    "events.head()"
   ]
  },
  {
   "cell_type": "code",
   "execution_count": null,
   "id": "dce5c71e",
   "metadata": {},
   "outputs": [],
   "source": [
    "print(events['timestamp'].dtype)\n",
    "print(events['timestamp'].head())"
   ]
  },
  {
   "cell_type": "code",
   "execution_count": null,
   "id": "adc272bc",
   "metadata": {},
   "outputs": [],
   "source": [
    "print(\"Raw timestamp values:\")\n",
    "print(events['timestamp'].head())\n",
    "\n",
    "# Convert from milliseconds to datetime\n",
    "events['timestamp'] = pd.to_datetime(events['timestamp'], unit='ms')\n",
    "\n",
    "# Verify the conversion\n",
    "print(\"\\nConverted timestamps:\")\n",
    "print(events['timestamp'].head())\n",
    "print(f\"\\nDate range: {events['timestamp'].min()} to {events['timestamp'].max()}\")"
   ]
  },
  {
   "cell_type": "code",
   "execution_count": null,
   "id": "a9a2222d",
   "metadata": {},
   "outputs": [],
   "source": [
    "print(events['timestamp'].min())\n",
    "print(events['timestamp'].max())"
   ]
  },
  {
   "cell_type": "code",
   "execution_count": null,
   "id": "ed689b35",
   "metadata": {},
   "outputs": [],
   "source": [
    "events.head()"
   ]
  },
  {
   "cell_type": "code",
   "execution_count": null,
   "id": "fdba8b9c",
   "metadata": {},
   "outputs": [],
   "source": [
    "item_col =\"itemid\"\n",
    "user_col = \"visitorid\"\n",
    "event_col = \"event\" \n",
    "\n",
    "# unique counts\n",
    "print(\"\\nunique counts (sample):\")\n",
    "for c in [user_col, item_col, event_col]:\n",
    "    if c in events.columns:\n",
    "        print(c, \"unique:\", events[c].nunique())\n",
    "\n",
    "#distribution of event types (views, purchases etc.)\n",
    "print(\"\\nevent counts:\\n\", events[event_col].value_counts())\n",
    "\n",
    "# top products and top users in the sample\n",
    "print(\"\\nTop 10 items (by events):\\n\", events[item_col].value_counts().head(10))\n",
    "print(\"\\nTop 10 users (by events):\\n\", events[user_col].value_counts().head(10))\n",
    "\n"
   ]
  },
  {
   "cell_type": "code",
   "execution_count": null,
   "id": "72f5c4ce",
   "metadata": {},
   "outputs": [],
   "source": []
  }
 ],
 "metadata": {
  "kernelspec": {
   "display_name": "recsys",
   "language": "python",
   "name": "python3"
  },
  "language_info": {
   "codemirror_mode": {
    "name": "ipython",
    "version": 3
   },
   "file_extension": ".py",
   "mimetype": "text/x-python",
   "name": "python",
   "nbconvert_exporter": "python",
   "pygments_lexer": "ipython3",
   "version": "3.11.13"
  }
 },
 "nbformat": 4,
 "nbformat_minor": 5
}
