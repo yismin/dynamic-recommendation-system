{
 "cells": [
  {
   "cell_type": "code",
   "execution_count": 21,
   "id": "406b27a8",
   "metadata": {},
   "outputs": [],
   "source": [
    "# ============================================================================\n",
    "# RETAILROCKET DATASET - EXPLORATORY DATA ANALYSIS\n",
    "# ============================================================================\n",
    "# Dataset: E-commerce user behavior (views, add-to-cart, purchases)\n",
    "# Goal: Understand user patterns, item popularity, and conversion funnels\n",
    "# ============================================================================"
   ]
  },
  {
   "cell_type": "code",
   "execution_count": 22,
   "id": "360dc37e",
   "metadata": {},
   "outputs": [],
   "source": [
    "import os\n",
    "from pathlib import Path\n",
    "import pandas as pd\n",
    "import numpy as np\n",
    "import matplotlib.pyplot as plt\n",
    "import seaborn as sns\n",
    "from datetime import datetime"
   ]
  },
  {
   "cell_type": "code",
   "execution_count": 23,
   "id": "42d736e8",
   "metadata": {},
   "outputs": [],
   "source": [
    "# Visualization settings\n",
    "plt.style.use('seaborn-v0_8-darkgrid')\n",
    "sns.set_palette(\"husl\")\n",
    "pd.set_option('display.max_columns', None)\n",
    "pd.set_option('display.width', None)"
   ]
  },
  {
   "cell_type": "code",
   "execution_count": 24,
   "id": "f775b745",
   "metadata": {},
   "outputs": [],
   "source": [
    "# ============================================================================\n",
    "# 1. PROJECT SETUP\n",
    "# ============================================================================"
   ]
  },
  {
   "cell_type": "code",
   "execution_count": 25,
   "id": "c94348ce",
   "metadata": {},
   "outputs": [
    {
     "name": "stdout",
     "output_type": "stream",
     "text": [
      "project root: c:\\Users\\yasmi\\projects\\dynamic-recommendation-system\n",
      "data dir: c:\\Users\\yasmi\\projects\\dynamic-recommendation-system\\data\\raw\\retailrocket\n",
      "files: [WindowsPath('c:/Users/yasmi/projects/dynamic-recommendation-system/data/raw/retailrocket/category_tree.csv'), WindowsPath('c:/Users/yasmi/projects/dynamic-recommendation-system/data/raw/retailrocket/events.csv'), WindowsPath('c:/Users/yasmi/projects/dynamic-recommendation-system/data/raw/retailrocket/item_properties_part1.csv'), WindowsPath('c:/Users/yasmi/projects/dynamic-recommendation-system/data/raw/retailrocket/item_properties_part2.csv')]\n"
     ]
    }
   ],
   "source": [
    "# Setup project paths (portable & reusable)\n",
    "# - Prints current working directory (for debugging)\n",
    "# - Defines PROJECT_ROOT as the main project folder\n",
    "# - Builds a reusable DATA_DIR path to raw data\n",
    "\n",
    "cwd = Path(os.getcwd())\n",
    "if (cwd / \"data\").exists():\n",
    "    PROJECT_ROOT = cwd\n",
    "else:\n",
    "    PROJECT_ROOT = cwd.parent  \n",
    "print(\"project root:\", PROJECT_ROOT)\n",
    "\n",
    "DATA_DIR = PROJECT_ROOT / \"data\" / \"raw\" / \"retailrocket\"\n",
    "print(\"data dir:\", DATA_DIR)\n",
    "print(\"files:\", list(DATA_DIR.glob(\"*\"))[:10])  "
   ]
  },
  {
   "cell_type": "code",
   "execution_count": 26,
   "id": "3394e322",
   "metadata": {},
   "outputs": [],
   "source": [
    "# ============================================================================\n",
    "# 2. DATA LOADING\n",
    "# ============================================================================"
   ]
  },
  {
   "cell_type": "code",
   "execution_count": 27,
   "id": "fdcbe70e",
   "metadata": {},
   "outputs": [],
   "source": [
    "events = pd.read_csv(DATA_DIR / \"events.csv\",dtype={'timestamp': 'int64'})\n",
    "category_tree = pd.read_csv(DATA_DIR / \"category_tree.csv\")\n",
    "prop1 = pd.read_csv(DATA_DIR / \"item_properties_part1.csv\",dtype={'timestamp': 'int64'})\n",
    "prop2 = pd.read_csv(DATA_DIR / \"item_properties_part2.csv\",dtype={'timestamp': 'int64'})"
   ]
  },
  {
   "cell_type": "code",
   "execution_count": 28,
   "id": "07ead8c5",
   "metadata": {},
   "outputs": [],
   "source": [
    "# Merging properties\n",
    "item_properties = pd.concat([prop1, prop2], ignore_index=True)"
   ]
  },
  {
   "cell_type": "code",
   "execution_count": 29,
   "id": "7c75e12c",
   "metadata": {},
   "outputs": [
    {
     "name": "stdout",
     "output_type": "stream",
     "text": [
      "Item properties merged: (20275902, 4) (part1: (10999999, 4), part2: (9275903, 4))\n"
     ]
    }
   ],
   "source": [
    "print(f\"Item properties merged: {item_properties.shape} (part1: {prop1.shape}, part2: {prop2.shape})\")\n"
   ]
  },
  {
   "cell_type": "code",
   "execution_count": 30,
   "id": "c4daf979",
   "metadata": {},
   "outputs": [],
   "source": [
    "# ============================================================================\n",
    "# 3. INITIAL DATA OVERVIEW\n",
    "# ============================================================================"
   ]
  },
  {
   "cell_type": "code",
   "execution_count": 31,
   "id": "6b73d238",
   "metadata": {},
   "outputs": [
    {
     "name": "stdout",
     "output_type": "stream",
     "text": [
      "\n",
      "EVENTS\n",
      "Shape: (2756101, 5)\n",
      "Columns: ['timestamp', 'visitorid', 'event', 'itemid', 'transactionid']\n",
      "Memory: 256.82 MB\n",
      "\n",
      "First 3 rows:\n",
      "    timestamp  visitorid event  itemid  transactionid\n",
      "1433221332117     257597  view  355908            NaN\n",
      "1433224214164     992329  view  248676            NaN\n",
      "1433221999827     111016  view  318965            NaN\n",
      "Nulls:\n",
      "timestamp              0\n",
      "visitorid              0\n",
      "event                  0\n",
      "itemid                 0\n",
      "transactionid    2733644\n",
      "dtype: int64\n",
      "\n",
      "CATEGORY_TREE\n",
      "Shape: (1669, 2)\n",
      "Columns: ['categoryid', 'parentid']\n",
      "Memory: 0.03 MB\n",
      "\n",
      "First 3 rows:\n",
      " categoryid  parentid\n",
      "       1016     213.0\n",
      "        809     169.0\n",
      "        570       9.0\n",
      "Nulls:\n",
      "categoryid     0\n",
      "parentid      25\n",
      "dtype: int64\n",
      "\n",
      "ITEM_PROPERTIES\n",
      "Shape: (20275902, 4)\n",
      "Columns: ['timestamp', 'itemid', 'property', 'value']\n",
      "Memory: 3067.60 MB\n",
      "\n",
      "First 3 rows:\n",
      "    timestamp  itemid   property                           value\n",
      "1435460400000  460429 categoryid                            1338\n",
      "1441508400000  206783        888         1116713 960601 n277.200\n",
      "1439089200000  395014        400 n552.000 639502 n720.000 424566\n",
      "Nulls:\n",
      "timestamp    0\n",
      "itemid       0\n",
      "property     0\n",
      "value        0\n",
      "dtype: int64\n"
     ]
    }
   ],
   "source": [
    "datasets = {\n",
    "    'events': events,\n",
    "    'category_tree': category_tree,\n",
    "    'item_properties': item_properties\n",
    "}\n",
    "\n",
    "for name, df in datasets.items():\n",
    "    print(f\"\\n{name.upper()}\")\n",
    "    print(f\"Shape: {df.shape}\")\n",
    "    print(f\"Columns: {list(df.columns)}\")\n",
    "    print(f\"Memory: {df.memory_usage(deep=True).sum() / 1e6:.2f} MB\")\n",
    "    print(f\"\\nFirst 3 rows:\")\n",
    "    print(df.head(3).to_string(index=False))\n",
    "    print(f\"Nulls:\\n{df.isna().sum()}\")"
   ]
  },
  {
   "cell_type": "code",
   "execution_count": 32,
   "id": "070ae111",
   "metadata": {},
   "outputs": [],
   "source": [
    "# ============================================================================\n",
    "# 4. EVENTS - PREPROCESSING & ANALYSIS\n",
    "# ============================================================================"
   ]
  },
  {
   "cell_type": "code",
   "execution_count": 33,
   "id": "3412ee35",
   "metadata": {},
   "outputs": [],
   "source": [
    "# Convert timestamp\n",
    "events['timestamp'] = pd.to_datetime(events['timestamp'], unit='ms')\n",
    "events['date'] = events['timestamp'].dt.date\n",
    "events['hour'] = events['timestamp'].dt.hour\n",
    "events['dayofweek'] = events['timestamp'].dt.dayofweek\n",
    "events['day_name'] = events['timestamp'].dt.day_name()"
   ]
  },
  {
   "cell_type": "code",
   "execution_count": 34,
   "id": "e3ee6ee4",
   "metadata": {},
   "outputs": [
    {
     "name": "stdout",
     "output_type": "stream",
     "text": [
      "\n",
      "unique counts (sample):\n",
      "visitorid unique: 1407580\n",
      "itemid unique: 235061\n",
      "event unique: 3\n",
      "\n",
      "Top 10 items (by events):\n",
      " itemid\n",
      "187946    3412\n",
      "461686    2978\n",
      "5411      2334\n",
      "370653    1854\n",
      "219512    1800\n",
      "257040    1647\n",
      "298009    1642\n",
      "96924     1633\n",
      "309778    1628\n",
      "384302    1608\n",
      "Name: count, dtype: int64\n",
      "\n",
      "Top 10 users (by events):\n",
      " visitorid\n",
      "1150086    7757\n",
      "530559     4328\n",
      "152963     3024\n",
      "895999     2474\n",
      "163561     2410\n",
      "371606     2345\n",
      "286616     2252\n",
      "684514     2246\n",
      "892013     2024\n",
      "861299     1991\n",
      "Name: count, dtype: int64\n"
     ]
    }
   ],
   "source": [
    "item_col =\"itemid\"\n",
    "user_col = \"visitorid\"\n",
    "event_col = \"event\" \n",
    "\n",
    "# unique counts\n",
    "print(\"\\nunique counts (sample):\")\n",
    "for c in [user_col, item_col, event_col]:\n",
    "    if c in events.columns:\n",
    "        print(c, \"unique:\", events[c].nunique())\n",
    "\n",
    "\n",
    "# top products and top users in the sample\n",
    "print(\"\\nTop 10 items (by events):\\n\", events[item_col].value_counts().head(10))\n",
    "print(\"\\nTop 10 users (by events):\\n\", events[user_col].value_counts().head(10))"
   ]
  },
  {
   "cell_type": "code",
   "execution_count": 35,
   "id": "3c0209f5",
   "metadata": {},
   "outputs": [
    {
     "name": "stdout",
     "output_type": "stream",
     "text": [
      "\n",
      "Basic Statistics:\n",
      "  Total events: 2,756,101\n",
      "  Unique visitors: 1,407,580\n",
      "  Unique items: 235,061\n",
      "  Date range: 2015-05-03 03:00:04.384000 to 2015-09-18 02:59:47.788000\n",
      "  Days span: 137 days\n"
     ]
    }
   ],
   "source": [
    "#Basic Statistics\n",
    "print(f\"\\nBasic Statistics:\")\n",
    "print(f\"  Total events: {len(events):,}\")\n",
    "print(f\"  Unique visitors: {events['visitorid'].nunique():,}\")\n",
    "print(f\"  Unique items: {events['itemid'].nunique():,}\")\n",
    "print(f\"  Date range: {events['timestamp'].min()} to {events['timestamp'].max()}\")\n",
    "print(f\"  Days span: {(events['timestamp'].max() - events['timestamp'].min()).days} days\")"
   ]
  },
  {
   "cell_type": "code",
   "execution_count": 36,
   "id": "b6c20dc9",
   "metadata": {},
   "outputs": [
    {
     "name": "stdout",
     "output_type": "stream",
     "text": [
      "\n",
      "Event Type Distribution:\n",
      "  view: 2,664,312 (96.67%)\n",
      "  addtocart: 69,332 (2.52%)\n",
      "  transaction: 22,457 (0.81%)\n"
     ]
    }
   ],
   "source": [
    "print(\"\\nEvent Type Distribution:\")\n",
    "event_dist = events['event'].value_counts()\n",
    "for event_type, count in event_dist.items():\n",
    "    pct = count / len(events) * 100\n",
    "    print(f\"  {event_type}: {count:,} ({pct:.2f}%)\")"
   ]
  },
  {
   "cell_type": "code",
   "execution_count": 37,
   "id": "e763dbaf",
   "metadata": {},
   "outputs": [
    {
     "name": "stdout",
     "output_type": "stream",
     "text": [
      "\n",
      "Conversion Funnel:\n",
      "  Views → AddToCart: 2.60%\n",
      "  Views → Purchase: 0.84%\n",
      "  AddToCart → Purchase: 32.39%\n"
     ]
    }
   ],
   "source": [
    "# Conversion metrics\n",
    "total_views = event_dist.get('view', 0)\n",
    "total_addtocart = event_dist.get('addtocart', 0)\n",
    "total_transactions = event_dist.get('transaction', 0)\n",
    "\n",
    "print(\"\\nConversion Funnel:\")\n",
    "print(f\"  Views → AddToCart: {total_addtocart/total_views*100:.2f}%\" if total_views > 0 else \"N/A\")\n",
    "print(f\"  Views → Purchase: {total_transactions/total_views*100:.2f}%\" if total_views > 0 else \"N/A\")\n",
    "print(f\"  AddToCart → Purchase: {total_transactions/total_addtocart*100:.2f}%\" if total_addtocart > 0 else \"N/A\")"
   ]
  },
  {
   "cell_type": "code",
   "execution_count": 38,
   "id": "a9a2222d",
   "metadata": {},
   "outputs": [
    {
     "name": "stdout",
     "output_type": "stream",
     "text": [
      "2015-05-03 03:00:04.384000\n",
      "2015-09-18 02:59:47.788000\n"
     ]
    }
   ],
   "source": [
    "print(events['timestamp'].min())\n",
    "print(events['timestamp'].max())"
   ]
  },
  {
   "cell_type": "code",
   "execution_count": 39,
   "id": "ed689b35",
   "metadata": {},
   "outputs": [],
   "source": [
    "# ============================================================================\n",
    "# 5. ITEM PROPERTIES - analysis\n",
    "# ============================================================================\n"
   ]
  },
  {
   "cell_type": "code",
   "execution_count": 40,
   "id": "fdba8b9c",
   "metadata": {},
   "outputs": [],
   "source": [
    "# Convert timestamp\n",
    "item_properties['timestamp'] = pd.to_datetime(item_properties['timestamp'], unit='ms')\n"
   ]
  },
  {
   "cell_type": "code",
   "execution_count": 43,
   "id": "72f5c4ce",
   "metadata": {},
   "outputs": [
    {
     "name": "stdout",
     "output_type": "stream",
     "text": [
      "\n",
      "Basic Statistics:\n",
      "  Total property records: 20,275,902\n",
      "  Unique items: 417,053\n",
      "  Unique properties: 1104\n",
      "  Date range: 2015-05-10 03:00:00 to 2015-09-13 03:00:00\n"
     ]
    }
   ],
   "source": [
    "print(f\"\\nBasic Statistics:\")\n",
    "print(f\"  Total property records: {len(item_properties):,}\")\n",
    "print(f\"  Unique items: {item_properties['itemid'].nunique():,}\")\n",
    "print(f\"  Unique properties: {item_properties['property'].nunique()}\")\n",
    "print(f\"  Date range: {item_properties['timestamp'].min()} to {item_properties['timestamp'].max()}\")\n"
   ]
  },
  {
   "cell_type": "code",
   "execution_count": 46,
   "id": "c1af44d6",
   "metadata": {},
   "outputs": [
    {
     "name": "stdout",
     "output_type": "stream",
     "text": [
      "\n",
      "📋 Property Types Overview:\n",
      "  Total unique property types: 1,104\n",
      "\n",
      "  Top 10 Most Common Properties:\n",
      "    888: 3,000,398 records across 417,053 items\n",
      "    790: 1,790,516 records across 417,053 items\n",
      "    available: 1,503,639 records across 417,053 items\n",
      "    categoryid: 788,214 records across 417,053 items\n",
      "    6: 631,471 records across 409,065 items\n",
      "    283: 597,419 records across 417,053 items\n",
      "    776: 574,220 records across 407,305 items\n",
      "    678: 481,966 records across 417,019 items\n",
      "    364: 476,486 records across 417,053 items\n",
      "    202: 448,938 records across 414,217 items\n"
     ]
    }
   ],
   "source": [
    "print(\"\\n📋 Property Types Overview:\")\n",
    "prop_counts = item_properties['property'].value_counts()\n",
    "print(f\"  Total unique property types: {len(prop_counts):,}\")\n",
    "\n",
    "# Show only the most common properties (top 10)\n",
    "print(f\"\\n  Top 10 Most Common Properties:\")\n",
    "for prop, count in prop_counts.head(10).items():\n",
    "    unique_items = item_properties[item_properties['property'] == prop]['itemid'].nunique()\n",
    "    print(f\"    {prop}: {count:,} records across {unique_items:,} items\")\n"
   ]
  },
  {
   "cell_type": "code",
   "execution_count": 50,
   "id": "4df8dc97",
   "metadata": {},
   "outputs": [
    {
     "name": "stdout",
     "output_type": "stream",
     "text": [
      "\n",
      "📊 Property Coverage per Item:\n",
      "  Items with 1 property: 0\n",
      "  Items with 2+ properties: 417,053\n",
      "  Items with 5+ properties: 417,053\n"
     ]
    }
   ],
   "source": [
    "# Property coverage per item\n",
    "print(\"\\n📊 Property Coverage per Item:\")\n",
    "props_per_item = item_properties.groupby('itemid')['property'].nunique()\n",
    "print(f\"  Items with 1 property: {(props_per_item == 1).sum():,}\")\n",
    "print(f\"  Items with 2+ properties: {(props_per_item >= 2).sum():,}\")\n",
    "print(f\"  Items with 5+ properties: {(props_per_item >= 5).sum():,}\")\n"
   ]
  },
  {
   "cell_type": "code",
   "execution_count": 51,
   "id": "c48465d7",
   "metadata": {},
   "outputs": [
    {
     "name": "stdout",
     "output_type": "stream",
     "text": [
      "\n",
      "🔍 Sample Item Properties:\n",
      "Item 406081 (has 56 properties, showing first 15):\n",
      " property                         value\n",
      "      355                        586893\n",
      "      523 991263 1238769 126079 1141242\n",
      "available                             0\n",
      "      678                        367680\n",
      "      981    288796 23770 769062 769062\n",
      "      981    288796 23770 769062 769062\n",
      "      701                        769062\n",
      "      765                        769062\n",
      "      981           288796 23770 769062\n",
      "      112                        679677\n",
      "      227                       1249027\n",
      "      447               1107648 1176545\n",
      "      888                 565165 367680\n",
      "      815                        769062\n",
      "      888                565165 1154859\n",
      "  ... and 41 more properties\n"
     ]
    }
   ],
   "source": [
    "# Sample item with all properties\n",
    "print(\"\\n🔍 Sample Item Properties:\")\n",
    "# Find an item with many properties but not the absolute max (which might be an outlier)\n",
    "props_per_item_sorted = item_properties.groupby('itemid')['property'].nunique().sort_values(ascending=False)\n",
    "sample_item = props_per_item_sorted.iloc[min(10, len(props_per_item_sorted)-1)]  # 11th item or last\n",
    "sample_item_id = props_per_item_sorted.index[min(10, len(props_per_item_sorted)-1)]\n",
    "sample_props = item_properties[item_properties['itemid'] == sample_item_id][['property', 'value']].head(15)\n",
    "print(f\"Item {sample_item_id} (has {sample_item} properties, showing first 15):\")\n",
    "print(sample_props.to_string(index=False))\n",
    "if sample_item > 15:\n",
    "    print(f\"  ... and {sample_item - 15} more properties\")"
   ]
  }
 ],
 "metadata": {
  "kernelspec": {
   "display_name": "recsys",
   "language": "python",
   "name": "python3"
  },
  "language_info": {
   "codemirror_mode": {
    "name": "ipython",
    "version": 3
   },
   "file_extension": ".py",
   "mimetype": "text/x-python",
   "name": "python",
   "nbconvert_exporter": "python",
   "pygments_lexer": "ipython3",
   "version": "3.11.13"
  }
 },
 "nbformat": 4,
 "nbformat_minor": 5
}
