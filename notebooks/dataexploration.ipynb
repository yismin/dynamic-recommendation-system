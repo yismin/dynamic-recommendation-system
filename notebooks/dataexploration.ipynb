{
 "cells": [
  {
   "cell_type": "code",
   "execution_count": 96,
   "id": "406b27a8",
   "metadata": {},
   "outputs": [],
   "source": [
    "# ============================================================================\n",
    "# RETAILROCKET DATASET - EXPLORATORY DATA ANALYSIS\n",
    "# ============================================================================\n",
    "# Dataset: E-commerce user behavior (views, add-to-cart, purchases)\n",
    "# Goal: Understand user patterns, item popularity, and conversion funnels\n",
    "# ============================================================================"
   ]
  },
  {
   "cell_type": "code",
   "execution_count": 97,
   "id": "360dc37e",
   "metadata": {},
   "outputs": [],
   "source": [
    "import os\n",
    "from pathlib import Path\n",
    "import pandas as pd\n",
    "import numpy as np\n",
    "import matplotlib.pyplot as plt\n",
    "import seaborn as sns\n",
    "from datetime import datetime"
   ]
  },
  {
   "cell_type": "code",
   "execution_count": 98,
   "id": "42d736e8",
   "metadata": {},
   "outputs": [],
   "source": [
    "# Visualization settings\n",
    "plt.style.use('seaborn-v0_8-darkgrid')\n",
    "sns.set_palette(\"husl\")\n",
    "pd.set_option('display.max_columns', None)\n",
    "pd.set_option('display.width', None)"
   ]
  },
  {
   "cell_type": "code",
   "execution_count": 99,
   "id": "f775b745",
   "metadata": {},
   "outputs": [],
   "source": [
    "# ============================================================================\n",
    "# 1. PROJECT SETUP\n",
    "# ============================================================================"
   ]
  },
  {
   "cell_type": "code",
   "execution_count": 100,
   "id": "c94348ce",
   "metadata": {},
   "outputs": [
    {
     "name": "stdout",
     "output_type": "stream",
     "text": [
      "project root: c:\\Users\\yasmi\\projects\\dynamic-recommendation-system\n",
      "data dir: c:\\Users\\yasmi\\projects\\dynamic-recommendation-system\\data\\raw\\retailrocket\n",
      "files: [WindowsPath('c:/Users/yasmi/projects/dynamic-recommendation-system/data/raw/retailrocket/category_tree.csv'), WindowsPath('c:/Users/yasmi/projects/dynamic-recommendation-system/data/raw/retailrocket/events.csv'), WindowsPath('c:/Users/yasmi/projects/dynamic-recommendation-system/data/raw/retailrocket/item_properties_part1.csv'), WindowsPath('c:/Users/yasmi/projects/dynamic-recommendation-system/data/raw/retailrocket/item_properties_part2.csv')]\n"
     ]
    }
   ],
   "source": [
    "# Setup project paths (portable & reusable)\n",
    "# - Prints current working directory (for debugging)\n",
    "# - Defines PROJECT_ROOT as the main project folder\n",
    "# - Builds a reusable DATA_DIR path to raw data\n",
    "\n",
    "cwd = Path(os.getcwd())\n",
    "if (cwd / \"data\").exists():\n",
    "    PROJECT_ROOT = cwd\n",
    "else:\n",
    "    PROJECT_ROOT = cwd.parent  \n",
    "print(\"project root:\", PROJECT_ROOT)\n",
    "\n",
    "DATA_DIR = PROJECT_ROOT / \"data\" / \"raw\" / \"retailrocket\"\n",
    "print(\"data dir:\", DATA_DIR)\n",
    "print(\"files:\", list(DATA_DIR.glob(\"*\"))[:10])  "
   ]
  },
  {
   "cell_type": "code",
   "execution_count": 101,
   "id": "3394e322",
   "metadata": {},
   "outputs": [],
   "source": [
    "# ============================================================================\n",
    "# 2. DATA LOADING\n",
    "# ============================================================================"
   ]
  },
  {
   "cell_type": "code",
   "execution_count": 102,
   "id": "fdcbe70e",
   "metadata": {},
   "outputs": [],
   "source": [
    "events = pd.read_csv(DATA_DIR / \"events.csv\",dtype={'timestamp': 'int64'})\n",
    "category_tree = pd.read_csv(DATA_DIR / \"category_tree.csv\")\n",
    "prop1 = pd.read_csv(DATA_DIR / \"item_properties_part1.csv\",dtype={'timestamp': 'int64'})\n",
    "prop2 = pd.read_csv(DATA_DIR / \"item_properties_part2.csv\",dtype={'timestamp': 'int64'})"
   ]
  },
  {
   "cell_type": "code",
   "execution_count": 103,
   "id": "07ead8c5",
   "metadata": {},
   "outputs": [],
   "source": [
    "# Merging properties\n",
    "item_properties = pd.concat([prop1, prop2], ignore_index=True)"
   ]
  },
  {
   "cell_type": "code",
   "execution_count": 104,
   "id": "7c75e12c",
   "metadata": {},
   "outputs": [
    {
     "name": "stdout",
     "output_type": "stream",
     "text": [
      "Item properties merged: (20275902, 4) (part1: (10999999, 4), part2: (9275903, 4))\n"
     ]
    }
   ],
   "source": [
    "print(f\"Item properties merged: {item_properties.shape} (part1: {prop1.shape}, part2: {prop2.shape})\")\n"
   ]
  },
  {
   "cell_type": "code",
   "execution_count": 105,
   "id": "c4daf979",
   "metadata": {},
   "outputs": [],
   "source": [
    "# ============================================================================\n",
    "# 3. INITIAL DATA OVERVIEW\n",
    "# ============================================================================"
   ]
  },
  {
   "cell_type": "code",
   "execution_count": 106,
   "id": "6b73d238",
   "metadata": {},
   "outputs": [
    {
     "name": "stdout",
     "output_type": "stream",
     "text": [
      "\n",
      "EVENTS\n",
      "Shape: (2756101, 5)\n",
      "Columns: ['timestamp', 'visitorid', 'event', 'itemid', 'transactionid']\n",
      "Memory: 256.82 MB\n",
      "\n",
      "First 3 rows:\n",
      "    timestamp  visitorid event  itemid  transactionid\n",
      "1433221332117     257597  view  355908            NaN\n",
      "1433224214164     992329  view  248676            NaN\n",
      "1433221999827     111016  view  318965            NaN\n",
      "Nulls:\n",
      "timestamp              0\n",
      "visitorid              0\n",
      "event                  0\n",
      "itemid                 0\n",
      "transactionid    2733644\n",
      "dtype: int64\n",
      "\n",
      "CATEGORY_TREE\n",
      "Shape: (1669, 2)\n",
      "Columns: ['categoryid', 'parentid']\n",
      "Memory: 0.03 MB\n",
      "\n",
      "First 3 rows:\n",
      " categoryid  parentid\n",
      "       1016     213.0\n",
      "        809     169.0\n",
      "        570       9.0\n",
      "Nulls:\n",
      "categoryid     0\n",
      "parentid      25\n",
      "dtype: int64\n",
      "\n",
      "ITEM_PROPERTIES\n",
      "Shape: (20275902, 4)\n",
      "Columns: ['timestamp', 'itemid', 'property', 'value']\n",
      "Memory: 3067.60 MB\n",
      "\n",
      "First 3 rows:\n",
      "    timestamp  itemid   property                           value\n",
      "1435460400000  460429 categoryid                            1338\n",
      "1441508400000  206783        888         1116713 960601 n277.200\n",
      "1439089200000  395014        400 n552.000 639502 n720.000 424566\n",
      "Nulls:\n",
      "timestamp    0\n",
      "itemid       0\n",
      "property     0\n",
      "value        0\n",
      "dtype: int64\n"
     ]
    }
   ],
   "source": [
    "datasets = {\n",
    "    'events': events,\n",
    "    'category_tree': category_tree,\n",
    "    'item_properties': item_properties\n",
    "}\n",
    "\n",
    "for name, df in datasets.items():\n",
    "    print(f\"\\n{name.upper()}\")\n",
    "    print(f\"Shape: {df.shape}\")\n",
    "    print(f\"Columns: {list(df.columns)}\")\n",
    "    print(f\"Memory: {df.memory_usage(deep=True).sum() / 1e6:.2f} MB\")\n",
    "    print(f\"\\nFirst 3 rows:\")\n",
    "    print(df.head(3).to_string(index=False))\n",
    "    print(f\"Nulls:\\n{df.isna().sum()}\")"
   ]
  },
  {
   "cell_type": "code",
   "execution_count": 107,
   "id": "070ae111",
   "metadata": {},
   "outputs": [],
   "source": [
    "# ============================================================================\n",
    "# 4. EVENTS - PREPROCESSING & ANALYSIS\n",
    "# ============================================================================"
   ]
  },
  {
   "cell_type": "code",
   "execution_count": 108,
   "id": "3412ee35",
   "metadata": {},
   "outputs": [],
   "source": [
    "# Convert timestamp\n",
    "events['timestamp'] = pd.to_datetime(events['timestamp'], unit='ms')\n",
    "events['date'] = events['timestamp'].dt.date\n",
    "events['hour'] = events['timestamp'].dt.hour\n",
    "events['dayofweek'] = events['timestamp'].dt.dayofweek\n",
    "events['day_name'] = events['timestamp'].dt.day_name()"
   ]
  },
  {
   "cell_type": "code",
   "execution_count": 109,
   "id": "3c0209f5",
   "metadata": {},
   "outputs": [
    {
     "name": "stdout",
     "output_type": "stream",
     "text": [
      "\n",
      "Basic Statistics:\n",
      "  Total events: 2,756,101\n",
      "  Unique visitors: 1,407,580\n",
      "  Unique items: 235,061\n",
      "  Date range: 2015-05-03 03:00:04.384000 to 2015-09-18 02:59:47.788000\n",
      "  Days span: 137 days\n"
     ]
    }
   ],
   "source": [
    "#Basic Statistics\n",
    "print(f\"\\nBasic Statistics:\")\n",
    "print(f\"  Total events: {len(events):,}\")\n",
    "print(f\"  Unique visitors: {events['visitorid'].nunique():,}\")\n",
    "print(f\"  Unique items: {events['itemid'].nunique():,}\")\n",
    "print(f\"  Date range: {events['timestamp'].min()} to {events['timestamp'].max()}\")\n",
    "print(f\"  Days span: {(events['timestamp'].max() - events['timestamp'].min()).days} days\")"
   ]
  },
  {
   "cell_type": "code",
   "execution_count": 110,
   "id": "b6c20dc9",
   "metadata": {},
   "outputs": [
    {
     "name": "stdout",
     "output_type": "stream",
     "text": [
      "\n",
      "Event Type Distribution:\n",
      "  view: 2,664,312 (96.67%)\n",
      "  addtocart: 69,332 (2.52%)\n",
      "  transaction: 22,457 (0.81%)\n"
     ]
    }
   ],
   "source": [
    "print(\"\\nEvent Type Distribution:\")\n",
    "event_dist = events['event'].value_counts()\n",
    "for event_type, count in event_dist.items():\n",
    "    pct = count / len(events) * 100\n",
    "    print(f\"  {event_type}: {count:,} ({pct:.2f}%)\")"
   ]
  },
  {
   "cell_type": "code",
   "execution_count": null,
   "id": "e763dbaf",
   "metadata": {},
   "outputs": [
    {
     "name": "stdout",
     "output_type": "stream",
     "text": [
      "\n",
      "📊 Conversion Funnel:\n",
      "  Views → AddToCart: 2.60%\n",
      "  Views → Purchase: 0.84%\n",
      "  AddToCart → Purchase: 32.39%\n"
     ]
    }
   ],
   "source": [
    "# Conversion metrics\n",
    "total_views = event_dist.get('view', 0)\n",
    "total_addtocart = event_dist.get('addtocart', 0)\n",
    "total_transactions = event_dist.get('transaction', 0)\n",
    "\n",
    "print(\"\\nConversion Funnel:\")\n",
    "print(f\"  Views → AddToCart: {total_addtocart/total_views*100:.2f}%\" if total_views > 0 else \"N/A\")\n",
    "print(f\"  Views → Purchase: {total_transactions/total_views*100:.2f}%\" if total_views > 0 else \"N/A\")\n",
    "print(f\"  AddToCart → Purchase: {total_transactions/total_addtocart*100:.2f}%\" if total_addtocart > 0 else \"N/A\")"
   ]
  },
  {
   "cell_type": "code",
   "execution_count": 112,
   "id": "adc272bc",
   "metadata": {},
   "outputs": [
    {
     "name": "stdout",
     "output_type": "stream",
     "text": [
      "Raw timestamp values:\n",
      "0   2015-06-02 05:02:12.117\n",
      "1   2015-06-02 05:50:14.164\n",
      "2   2015-06-02 05:13:19.827\n",
      "3   2015-06-02 05:12:35.914\n",
      "4   2015-06-02 05:02:17.106\n",
      "Name: timestamp, dtype: datetime64[ns]\n",
      "\n",
      "Converted timestamps:\n",
      "0   2015-06-02 05:02:12.117\n",
      "1   2015-06-02 05:50:14.164\n",
      "2   2015-06-02 05:13:19.827\n",
      "3   2015-06-02 05:12:35.914\n",
      "4   2015-06-02 05:02:17.106\n",
      "Name: timestamp, dtype: datetime64[ns]\n",
      "\n",
      "Date range: 2015-05-03 03:00:04.384000 to 2015-09-18 02:59:47.788000\n"
     ]
    }
   ],
   "source": [
    "print(\"Raw timestamp values:\")\n",
    "print(events['timestamp'].head())\n",
    "\n",
    "# Convert from milliseconds to datetime\n",
    "events['timestamp'] = pd.to_datetime(events['timestamp'], unit='ms')\n",
    "\n",
    "# Verify the conversion\n",
    "print(\"\\nConverted timestamps:\")\n",
    "print(events['timestamp'].head())\n",
    "print(f\"\\nDate range: {events['timestamp'].min()} to {events['timestamp'].max()}\")"
   ]
  },
  {
   "cell_type": "code",
   "execution_count": 113,
   "id": "a9a2222d",
   "metadata": {},
   "outputs": [
    {
     "name": "stdout",
     "output_type": "stream",
     "text": [
      "2015-05-03 03:00:04.384000\n",
      "2015-09-18 02:59:47.788000\n"
     ]
    }
   ],
   "source": [
    "print(events['timestamp'].min())\n",
    "print(events['timestamp'].max())"
   ]
  },
  {
   "cell_type": "code",
   "execution_count": 114,
   "id": "ed689b35",
   "metadata": {},
   "outputs": [
    {
     "data": {
      "text/html": [
       "<div>\n",
       "<style scoped>\n",
       "    .dataframe tbody tr th:only-of-type {\n",
       "        vertical-align: middle;\n",
       "    }\n",
       "\n",
       "    .dataframe tbody tr th {\n",
       "        vertical-align: top;\n",
       "    }\n",
       "\n",
       "    .dataframe thead th {\n",
       "        text-align: right;\n",
       "    }\n",
       "</style>\n",
       "<table border=\"1\" class=\"dataframe\">\n",
       "  <thead>\n",
       "    <tr style=\"text-align: right;\">\n",
       "      <th></th>\n",
       "      <th>timestamp</th>\n",
       "      <th>visitorid</th>\n",
       "      <th>event</th>\n",
       "      <th>itemid</th>\n",
       "      <th>transactionid</th>\n",
       "      <th>date</th>\n",
       "      <th>hour</th>\n",
       "      <th>dayofweek</th>\n",
       "      <th>day_name</th>\n",
       "    </tr>\n",
       "  </thead>\n",
       "  <tbody>\n",
       "    <tr>\n",
       "      <th>0</th>\n",
       "      <td>2015-06-02 05:02:12.117</td>\n",
       "      <td>257597</td>\n",
       "      <td>view</td>\n",
       "      <td>355908</td>\n",
       "      <td>NaN</td>\n",
       "      <td>2015-06-02</td>\n",
       "      <td>5</td>\n",
       "      <td>1</td>\n",
       "      <td>Tuesday</td>\n",
       "    </tr>\n",
       "    <tr>\n",
       "      <th>1</th>\n",
       "      <td>2015-06-02 05:50:14.164</td>\n",
       "      <td>992329</td>\n",
       "      <td>view</td>\n",
       "      <td>248676</td>\n",
       "      <td>NaN</td>\n",
       "      <td>2015-06-02</td>\n",
       "      <td>5</td>\n",
       "      <td>1</td>\n",
       "      <td>Tuesday</td>\n",
       "    </tr>\n",
       "    <tr>\n",
       "      <th>2</th>\n",
       "      <td>2015-06-02 05:13:19.827</td>\n",
       "      <td>111016</td>\n",
       "      <td>view</td>\n",
       "      <td>318965</td>\n",
       "      <td>NaN</td>\n",
       "      <td>2015-06-02</td>\n",
       "      <td>5</td>\n",
       "      <td>1</td>\n",
       "      <td>Tuesday</td>\n",
       "    </tr>\n",
       "    <tr>\n",
       "      <th>3</th>\n",
       "      <td>2015-06-02 05:12:35.914</td>\n",
       "      <td>483717</td>\n",
       "      <td>view</td>\n",
       "      <td>253185</td>\n",
       "      <td>NaN</td>\n",
       "      <td>2015-06-02</td>\n",
       "      <td>5</td>\n",
       "      <td>1</td>\n",
       "      <td>Tuesday</td>\n",
       "    </tr>\n",
       "    <tr>\n",
       "      <th>4</th>\n",
       "      <td>2015-06-02 05:02:17.106</td>\n",
       "      <td>951259</td>\n",
       "      <td>view</td>\n",
       "      <td>367447</td>\n",
       "      <td>NaN</td>\n",
       "      <td>2015-06-02</td>\n",
       "      <td>5</td>\n",
       "      <td>1</td>\n",
       "      <td>Tuesday</td>\n",
       "    </tr>\n",
       "  </tbody>\n",
       "</table>\n",
       "</div>"
      ],
      "text/plain": [
       "                timestamp  visitorid event  itemid  transactionid        date  \\\n",
       "0 2015-06-02 05:02:12.117     257597  view  355908            NaN  2015-06-02   \n",
       "1 2015-06-02 05:50:14.164     992329  view  248676            NaN  2015-06-02   \n",
       "2 2015-06-02 05:13:19.827     111016  view  318965            NaN  2015-06-02   \n",
       "3 2015-06-02 05:12:35.914     483717  view  253185            NaN  2015-06-02   \n",
       "4 2015-06-02 05:02:17.106     951259  view  367447            NaN  2015-06-02   \n",
       "\n",
       "   hour  dayofweek day_name  \n",
       "0     5          1  Tuesday  \n",
       "1     5          1  Tuesday  \n",
       "2     5          1  Tuesday  \n",
       "3     5          1  Tuesday  \n",
       "4     5          1  Tuesday  "
      ]
     },
     "execution_count": 114,
     "metadata": {},
     "output_type": "execute_result"
    }
   ],
   "source": [
    "events.head()"
   ]
  },
  {
   "cell_type": "code",
   "execution_count": 115,
   "id": "fdba8b9c",
   "metadata": {},
   "outputs": [
    {
     "name": "stdout",
     "output_type": "stream",
     "text": [
      "\n",
      "unique counts (sample):\n",
      "visitorid unique: 1407580\n",
      "itemid unique: 235061\n",
      "event unique: 3\n",
      "\n",
      "event counts:\n",
      " event\n",
      "view           2664312\n",
      "addtocart        69332\n",
      "transaction      22457\n",
      "Name: count, dtype: int64\n",
      "\n",
      "Top 10 items (by events):\n",
      " itemid\n",
      "187946    3412\n",
      "461686    2978\n",
      "5411      2334\n",
      "370653    1854\n",
      "219512    1800\n",
      "257040    1647\n",
      "298009    1642\n",
      "96924     1633\n",
      "309778    1628\n",
      "384302    1608\n",
      "Name: count, dtype: int64\n",
      "\n",
      "Top 10 users (by events):\n",
      " visitorid\n",
      "1150086    7757\n",
      "530559     4328\n",
      "152963     3024\n",
      "895999     2474\n",
      "163561     2410\n",
      "371606     2345\n",
      "286616     2252\n",
      "684514     2246\n",
      "892013     2024\n",
      "861299     1991\n",
      "Name: count, dtype: int64\n"
     ]
    }
   ],
   "source": [
    "item_col =\"itemid\"\n",
    "user_col = \"visitorid\"\n",
    "event_col = \"event\" \n",
    "\n",
    "# unique counts\n",
    "print(\"\\nunique counts (sample):\")\n",
    "for c in [user_col, item_col, event_col]:\n",
    "    if c in events.columns:\n",
    "        print(c, \"unique:\", events[c].nunique())\n",
    "\n",
    "#distribution of event types (views, purchases etc.)\n",
    "print(\"\\nevent counts:\\n\", events[event_col].value_counts())\n",
    "\n",
    "# top products and top users in the sample\n",
    "print(\"\\nTop 10 items (by events):\\n\", events[item_col].value_counts().head(10))\n",
    "print(\"\\nTop 10 users (by events):\\n\", events[user_col].value_counts().head(10))\n",
    "\n"
   ]
  },
  {
   "cell_type": "code",
   "execution_count": null,
   "id": "72f5c4ce",
   "metadata": {},
   "outputs": [],
   "source": []
  }
 ],
 "metadata": {
  "kernelspec": {
   "display_name": "recsys",
   "language": "python",
   "name": "python3"
  },
  "language_info": {
   "codemirror_mode": {
    "name": "ipython",
    "version": 3
   },
   "file_extension": ".py",
   "mimetype": "text/x-python",
   "name": "python",
   "nbconvert_exporter": "python",
   "pygments_lexer": "ipython3",
   "version": "3.11.13"
  }
 },
 "nbformat": 4,
 "nbformat_minor": 5
}
