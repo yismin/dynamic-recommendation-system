{
 "cells": [
  {
   "cell_type": "code",
   "execution_count": 2,
   "id": "360dc37e",
   "metadata": {},
   "outputs": [],
   "source": [
    "import os\n",
    "from pathlib import Path\n",
    "import pandas as pd\n",
    "import numpy as np"
   ]
  },
  {
   "cell_type": "code",
   "execution_count": 3,
   "id": "c94348ce",
   "metadata": {},
   "outputs": [
    {
     "name": "stdout",
     "output_type": "stream",
     "text": [
      "project root: c:\\Users\\yasmi\\projects\\dynamic-recommendation-system\n",
      "data dir: c:\\Users\\yasmi\\projects\\dynamic-recommendation-system\\data\\raw\\retailrocket\n",
      "files: [WindowsPath('c:/Users/yasmi/projects/dynamic-recommendation-system/data/raw/retailrocket/category_tree.csv'), WindowsPath('c:/Users/yasmi/projects/dynamic-recommendation-system/data/raw/retailrocket/events.csv'), WindowsPath('c:/Users/yasmi/projects/dynamic-recommendation-system/data/raw/retailrocket/item_properties_part1.csv'), WindowsPath('c:/Users/yasmi/projects/dynamic-recommendation-system/data/raw/retailrocket/item_properties_part2.csv')]\n"
     ]
    }
   ],
   "source": [
    "# Setup project paths (portable & reusable)\n",
    "# - Prints current working directory (for debugging)\n",
    "# - Defines PROJECT_ROOT as the main project folder\n",
    "# - Builds a reusable DATA_DIR path to raw data\n",
    "\n",
    "cwd = Path(os.getcwd())\n",
    "if (cwd / \"data\").exists():\n",
    "    PROJECT_ROOT = cwd\n",
    "else:\n",
    "    PROJECT_ROOT = cwd.parent  \n",
    "print(\"project root:\", PROJECT_ROOT)\n",
    "\n",
    "DATA_DIR = PROJECT_ROOT / \"data\" / \"raw\" / \"retailrocket\"\n",
    "print(\"data dir:\", DATA_DIR)\n",
    "print(\"files:\", list(DATA_DIR.glob(\"*\"))[:10])  "
   ]
  },
  {
   "cell_type": "code",
   "execution_count": null,
   "id": "fdcbe70e",
   "metadata": {},
   "outputs": [],
   "source": [
    "events = pd.read_csv(DATA_DIR / \"events.csv\")\n",
    "category_tree = pd.read_csv(DATA_DIR / \"category_tree.csv\")\n",
    "prop1 = pd.read_csv(DATA_DIR / \"item_properties_part1.csv\")\n",
    "prop2 = pd.read_csv(DATA_DIR / \"item_properties_part2.csv\")"
   ]
  },
  {
   "cell_type": "code",
   "execution_count": null,
   "id": "07ead8c5",
   "metadata": {},
   "outputs": [],
   "source": [
    "# Merging properties\n",
    "item_properties = pd.concat([prop1, prop2], ignore_index=True)"
   ]
  },
  {
   "cell_type": "code",
   "execution_count": null,
   "id": "7c75e12c",
   "metadata": {},
   "outputs": [
    {
     "name": "stdout",
     "output_type": "stream",
     "text": [
      "Part1 shape: (10999999, 4)\n",
      "Part2 shape: (9275903, 4)\n",
      "Merged shape: (20275902, 4)\n"
     ]
    }
   ],
   "source": [
    "print(\"Part1 shape:\", prop1.shape)\n",
    "print(\"Part2 shape:\", prop2.shape)\n",
    "print(\"Merged shape:\", item_properties.shape)"
   ]
  },
  {
   "cell_type": "code",
   "execution_count": 5,
   "id": "5b00d54a",
   "metadata": {},
   "outputs": [
    {
     "name": "stdout",
     "output_type": "stream",
     "text": [
      "category_tree.csv size(MB)= 0.01\n",
      " categoryid  parentid\n",
      "       1016       213\n",
      "        809       169\n",
      "        570         9\n",
      "------------------------------------------------------------\n",
      "events.csv size(MB)= 94.24\n",
      "    timestamp  visitorid event  itemid  transactionid\n",
      "1433221332117     257597  view  355908            NaN\n",
      "1433224214164     992329  view  248676            NaN\n",
      "1433221999827     111016  view  318965            NaN\n",
      "------------------------------------------------------------\n",
      "item_properties_part1.csv size(MB)= 484.32\n",
      "    timestamp  itemid   property                           value\n",
      "1435460400000  460429 categoryid                            1338\n",
      "1441508400000  206783        888         1116713 960601 n277.200\n",
      "1439089200000  395014        400 n552.000 639502 n720.000 424566\n",
      "------------------------------------------------------------\n",
      "item_properties_part2.csv size(MB)= 408.93\n",
      "    timestamp  itemid  property           value\n",
      "1433041200000  183478       561          769062\n",
      "1439694000000  132256       976 n26.400 1135780\n",
      "1435460400000  420307       921 1149317 1257525\n",
      "------------------------------------------------------------\n"
     ]
    }
   ],
   "source": [
    "for f in DATA_DIR.iterdir():\n",
    "    if f.suffix.lower() in [\".csv\"]:\n",
    "        print(f.name, \"size(MB)=\", round(f.stat().st_size/1e6,2))\n",
    "        print(pd.read_csv(f, nrows=3).head(3).to_string(index=False))\n",
    "        print(\"-\"*60)\n"
   ]
  },
  {
   "cell_type": "code",
   "execution_count": null,
   "id": "061b8d60",
   "metadata": {},
   "outputs": [],
   "source": [
    "# Inspecting Events \n",
    "print(\"columns:\", list(events.columns))\n",
    "print(\"\\ninfo:\")\n",
    "print(\"null counts:\\n\", events.isna().sum())\n",
    "display(events.describe(include='all').T)\n"
   ]
  },
  {
   "cell_type": "code",
   "execution_count": 12,
   "id": "bad6019d",
   "metadata": {},
   "outputs": [
    {
     "name": "stdout",
     "output_type": "stream",
     "text": [
      "columns: ['categoryid', 'parentid']\n",
      "\n",
      "info:\n",
      "null counts:\n",
      " categoryid     0\n",
      "parentid      25\n",
      "dtype: int64\n"
     ]
    },
    {
     "data": {
      "text/html": [
       "<div>\n",
       "<style scoped>\n",
       "    .dataframe tbody tr th:only-of-type {\n",
       "        vertical-align: middle;\n",
       "    }\n",
       "\n",
       "    .dataframe tbody tr th {\n",
       "        vertical-align: top;\n",
       "    }\n",
       "\n",
       "    .dataframe thead th {\n",
       "        text-align: right;\n",
       "    }\n",
       "</style>\n",
       "<table border=\"1\" class=\"dataframe\">\n",
       "  <thead>\n",
       "    <tr style=\"text-align: right;\">\n",
       "      <th></th>\n",
       "      <th>count</th>\n",
       "      <th>mean</th>\n",
       "      <th>std</th>\n",
       "      <th>min</th>\n",
       "      <th>25%</th>\n",
       "      <th>50%</th>\n",
       "      <th>75%</th>\n",
       "      <th>max</th>\n",
       "    </tr>\n",
       "  </thead>\n",
       "  <tbody>\n",
       "    <tr>\n",
       "      <th>categoryid</th>\n",
       "      <td>1669.0</td>\n",
       "      <td>849.285201</td>\n",
       "      <td>490.195116</td>\n",
       "      <td>0.0</td>\n",
       "      <td>427.0</td>\n",
       "      <td>848.0</td>\n",
       "      <td>1273.0</td>\n",
       "      <td>1698.0</td>\n",
       "    </tr>\n",
       "    <tr>\n",
       "      <th>parentid</th>\n",
       "      <td>1644.0</td>\n",
       "      <td>847.571168</td>\n",
       "      <td>505.058485</td>\n",
       "      <td>8.0</td>\n",
       "      <td>381.0</td>\n",
       "      <td>866.0</td>\n",
       "      <td>1291.0</td>\n",
       "      <td>1698.0</td>\n",
       "    </tr>\n",
       "  </tbody>\n",
       "</table>\n",
       "</div>"
      ],
      "text/plain": [
       "             count        mean         std  min    25%    50%     75%     max\n",
       "categoryid  1669.0  849.285201  490.195116  0.0  427.0  848.0  1273.0  1698.0\n",
       "parentid    1644.0  847.571168  505.058485  8.0  381.0  866.0  1291.0  1698.0"
      ]
     },
     "metadata": {},
     "output_type": "display_data"
    }
   ],
   "source": [
    "# Inspecting Category Tree\n",
    "print(\"columns:\", list(category_tree.columns))\n",
    "print(\"\\ninfo:\")\n",
    "print(\"null counts:\\n\", category_tree.isna().sum())\n",
    "display(category_tree.describe(include='all').T)\n"
   ]
  },
  {
   "cell_type": "code",
   "execution_count": 18,
   "id": "731f51f2",
   "metadata": {},
   "outputs": [
    {
     "name": "stdout",
     "output_type": "stream",
     "text": [
      "columns: ['timestamp', 'itemid', 'property', 'value']\n",
      "\n",
      "info:\n",
      "null counts:\n",
      " timestamp    0\n",
      "itemid       0\n",
      "property     0\n",
      "value        0\n",
      "dtype: int64\n"
     ]
    },
    {
     "data": {
      "text/html": [
       "<div>\n",
       "<style scoped>\n",
       "    .dataframe tbody tr th:only-of-type {\n",
       "        vertical-align: middle;\n",
       "    }\n",
       "\n",
       "    .dataframe tbody tr th {\n",
       "        vertical-align: top;\n",
       "    }\n",
       "\n",
       "    .dataframe thead th {\n",
       "        text-align: right;\n",
       "    }\n",
       "</style>\n",
       "<table border=\"1\" class=\"dataframe\">\n",
       "  <thead>\n",
       "    <tr style=\"text-align: right;\">\n",
       "      <th></th>\n",
       "      <th>count</th>\n",
       "      <th>unique</th>\n",
       "      <th>top</th>\n",
       "      <th>freq</th>\n",
       "      <th>mean</th>\n",
       "      <th>std</th>\n",
       "      <th>min</th>\n",
       "      <th>25%</th>\n",
       "      <th>50%</th>\n",
       "      <th>75%</th>\n",
       "      <th>max</th>\n",
       "    </tr>\n",
       "  </thead>\n",
       "  <tbody>\n",
       "    <tr>\n",
       "      <th>timestamp</th>\n",
       "      <td>20275902.0</td>\n",
       "      <td>NaN</td>\n",
       "      <td>NaN</td>\n",
       "      <td>NaN</td>\n",
       "      <td>1435156943682.883301</td>\n",
       "      <td>3327797780.567144</td>\n",
       "      <td>1431226800000.0</td>\n",
       "      <td>1432436400000.0</td>\n",
       "      <td>1433646000000.0</td>\n",
       "      <td>1437879600000.0</td>\n",
       "      <td>1442113200000.0</td>\n",
       "    </tr>\n",
       "    <tr>\n",
       "      <th>itemid</th>\n",
       "      <td>20275902.0</td>\n",
       "      <td>NaN</td>\n",
       "      <td>NaN</td>\n",
       "      <td>NaN</td>\n",
       "      <td>233390.432525</td>\n",
       "      <td>134845.230668</td>\n",
       "      <td>0.0</td>\n",
       "      <td>116516.0</td>\n",
       "      <td>233483.0</td>\n",
       "      <td>350304.0</td>\n",
       "      <td>466866.0</td>\n",
       "    </tr>\n",
       "    <tr>\n",
       "      <th>property</th>\n",
       "      <td>20275902</td>\n",
       "      <td>1104</td>\n",
       "      <td>888</td>\n",
       "      <td>3000398</td>\n",
       "      <td>NaN</td>\n",
       "      <td>NaN</td>\n",
       "      <td>NaN</td>\n",
       "      <td>NaN</td>\n",
       "      <td>NaN</td>\n",
       "      <td>NaN</td>\n",
       "      <td>NaN</td>\n",
       "    </tr>\n",
       "    <tr>\n",
       "      <th>value</th>\n",
       "      <td>20275902</td>\n",
       "      <td>1966868</td>\n",
       "      <td>769062</td>\n",
       "      <td>1537247</td>\n",
       "      <td>NaN</td>\n",
       "      <td>NaN</td>\n",
       "      <td>NaN</td>\n",
       "      <td>NaN</td>\n",
       "      <td>NaN</td>\n",
       "      <td>NaN</td>\n",
       "      <td>NaN</td>\n",
       "    </tr>\n",
       "  </tbody>\n",
       "</table>\n",
       "</div>"
      ],
      "text/plain": [
       "                count   unique     top     freq                  mean  \\\n",
       "timestamp  20275902.0      NaN     NaN      NaN  1435156943682.883301   \n",
       "itemid     20275902.0      NaN     NaN      NaN         233390.432525   \n",
       "property     20275902     1104     888  3000398                   NaN   \n",
       "value        20275902  1966868  769062  1537247                   NaN   \n",
       "\n",
       "                         std              min              25%  \\\n",
       "timestamp  3327797780.567144  1431226800000.0  1432436400000.0   \n",
       "itemid         134845.230668              0.0         116516.0   \n",
       "property                 NaN              NaN              NaN   \n",
       "value                    NaN              NaN              NaN   \n",
       "\n",
       "                       50%              75%              max  \n",
       "timestamp  1433646000000.0  1437879600000.0  1442113200000.0  \n",
       "itemid            233483.0         350304.0         466866.0  \n",
       "property               NaN              NaN              NaN  \n",
       "value                  NaN              NaN              NaN  "
      ]
     },
     "metadata": {},
     "output_type": "display_data"
    }
   ],
   "source": [
    "# Inspecting Item Properties \n",
    "print(\"columns:\", list(item_properties.columns))\n",
    "print(\"\\ninfo:\")\n",
    "print(\"null counts:\\n\", item_properties.isna().sum())\n",
    "display(item_properties.describe(include='all').T)\n"
   ]
  },
  {
   "cell_type": "code",
   "execution_count": 19,
   "id": "23e6c371",
   "metadata": {},
   "outputs": [
    {
     "data": {
      "text/html": [
       "<div>\n",
       "<style scoped>\n",
       "    .dataframe tbody tr th:only-of-type {\n",
       "        vertical-align: middle;\n",
       "    }\n",
       "\n",
       "    .dataframe tbody tr th {\n",
       "        vertical-align: top;\n",
       "    }\n",
       "\n",
       "    .dataframe thead th {\n",
       "        text-align: right;\n",
       "    }\n",
       "</style>\n",
       "<table border=\"1\" class=\"dataframe\">\n",
       "  <thead>\n",
       "    <tr style=\"text-align: right;\">\n",
       "      <th></th>\n",
       "      <th>timestamp</th>\n",
       "      <th>visitorid</th>\n",
       "      <th>event</th>\n",
       "      <th>itemid</th>\n",
       "      <th>transactionid</th>\n",
       "    </tr>\n",
       "  </thead>\n",
       "  <tbody>\n",
       "    <tr>\n",
       "      <th>0</th>\n",
       "      <td>1433221332117</td>\n",
       "      <td>257597</td>\n",
       "      <td>view</td>\n",
       "      <td>355908</td>\n",
       "      <td>NaN</td>\n",
       "    </tr>\n",
       "    <tr>\n",
       "      <th>1</th>\n",
       "      <td>1433224214164</td>\n",
       "      <td>992329</td>\n",
       "      <td>view</td>\n",
       "      <td>248676</td>\n",
       "      <td>NaN</td>\n",
       "    </tr>\n",
       "    <tr>\n",
       "      <th>2</th>\n",
       "      <td>1433221999827</td>\n",
       "      <td>111016</td>\n",
       "      <td>view</td>\n",
       "      <td>318965</td>\n",
       "      <td>NaN</td>\n",
       "    </tr>\n",
       "    <tr>\n",
       "      <th>3</th>\n",
       "      <td>1433221955914</td>\n",
       "      <td>483717</td>\n",
       "      <td>view</td>\n",
       "      <td>253185</td>\n",
       "      <td>NaN</td>\n",
       "    </tr>\n",
       "    <tr>\n",
       "      <th>4</th>\n",
       "      <td>1433221337106</td>\n",
       "      <td>951259</td>\n",
       "      <td>view</td>\n",
       "      <td>367447</td>\n",
       "      <td>NaN</td>\n",
       "    </tr>\n",
       "  </tbody>\n",
       "</table>\n",
       "</div>"
      ],
      "text/plain": [
       "       timestamp  visitorid event  itemid  transactionid\n",
       "0  1433221332117     257597  view  355908            NaN\n",
       "1  1433224214164     992329  view  248676            NaN\n",
       "2  1433221999827     111016  view  318965            NaN\n",
       "3  1433221955914     483717  view  253185            NaN\n",
       "4  1433221337106     951259  view  367447            NaN"
      ]
     },
     "execution_count": 19,
     "metadata": {},
     "output_type": "execute_result"
    }
   ],
   "source": [
    "events.head()"
   ]
  },
  {
   "cell_type": "code",
   "execution_count": 33,
   "id": "fcbd201f",
   "metadata": {},
   "outputs": [
    {
     "name": "stdout",
     "output_type": "stream",
     "text": [
      "0   1970-01-01 00:23:53.221332117\n",
      "1   1970-01-01 00:23:53.224214164\n",
      "2   1970-01-01 00:23:53.221999827\n",
      "3   1970-01-01 00:23:53.221955914\n",
      "4   1970-01-01 00:23:53.221337106\n",
      "Name: timestamp, dtype: datetime64[ns]\n",
      "1970-01-01 00:23:50.622004384 1970-01-01 00:24:02.545187788\n"
     ]
    }
   ],
   "source": [
    "# Convert timestamp \n",
    "events[\"timestamp\"] = pd.to_datetime(events[\"timestamp\"], unit = 'ms')\n",
    "print(events[\"timestamp\"].head())\n",
    "print(events[\"timestamp\"].min(), events[\"timestamp\"].max())"
   ]
  }
 ],
 "metadata": {
  "kernelspec": {
   "display_name": "recsys",
   "language": "python",
   "name": "python3"
  },
  "language_info": {
   "codemirror_mode": {
    "name": "ipython",
    "version": 3
   },
   "file_extension": ".py",
   "mimetype": "text/x-python",
   "name": "python",
   "nbconvert_exporter": "python",
   "pygments_lexer": "ipython3",
   "version": "3.11.13"
  }
 },
 "nbformat": 4,
 "nbformat_minor": 5
}
