{
 "cells": [
  {
   "cell_type": "code",
   "execution_count": 25,
   "id": "360dc37e",
   "metadata": {},
   "outputs": [],
   "source": [
    "import os\n",
    "from pathlib import Path\n",
    "import pandas as pd\n",
    "import numpy as np"
   ]
  },
  {
   "cell_type": "code",
   "execution_count": 30,
   "id": "c94348ce",
   "metadata": {},
   "outputs": [
    {
     "name": "stdout",
     "output_type": "stream",
     "text": [
      "project root: c:\\Users\\yasmi\\projects\\dynamic-recommendation-system\n",
      "data dir: c:\\Users\\yasmi\\projects\\dynamic-recommendation-system\\data\\raw\\retailrocket\n",
      "files: [WindowsPath('c:/Users/yasmi/projects/dynamic-recommendation-system/data/raw/retailrocket/category_tree.csv'), WindowsPath('c:/Users/yasmi/projects/dynamic-recommendation-system/data/raw/retailrocket/events.csv'), WindowsPath('c:/Users/yasmi/projects/dynamic-recommendation-system/data/raw/retailrocket/item_properties_part1.csv'), WindowsPath('c:/Users/yasmi/projects/dynamic-recommendation-system/data/raw/retailrocket/item_properties_part2.csv')]\n"
     ]
    }
   ],
   "source": [
    "# Setup project paths (portable & reusable)\n",
    "# - Prints current working directory (for debugging)\n",
    "# - Defines PROJECT_ROOT as the main project folder\n",
    "# - Builds a reusable DATA_DIR path to raw data\n",
    "\n",
    "cwd = Path(os.getcwd())\n",
    "if (cwd / \"data\").exists():\n",
    "    PROJECT_ROOT = cwd\n",
    "else:\n",
    "    PROJECT_ROOT = cwd.parent  \n",
    "print(\"project root:\", PROJECT_ROOT)\n",
    "\n",
    "DATA_DIR = PROJECT_ROOT / \"data\" / \"raw\" / \"retailrocket\"\n",
    "print(\"data dir:\", DATA_DIR)\n",
    "print(\"files:\", list(DATA_DIR.glob(\"*\"))[:10])  "
   ]
  },
  {
   "cell_type": "code",
   "execution_count": 10,
   "id": "fdcbe70e",
   "metadata": {},
   "outputs": [],
   "source": [
    "events = pd.read_csv(\"../data/raw/retailrocket/events.csv\")\n",
    "category_tree = pd.read_csv(\"../data/raw/retailrocket/category_tree.csv\")\n",
    "item_properties1 = pd.read_csv(\"../data/raw/retailrocket/item_properties_part1.csv\")\n",
    "item_properties2 = pd.read_csv(\"../data/raw/retailrocket/item_properties_part2.csv\")"
   ]
  },
  {
   "cell_type": "code",
   "execution_count": 36,
   "id": "5b00d54a",
   "metadata": {},
   "outputs": [
    {
     "name": "stdout",
     "output_type": "stream",
     "text": [
      "category_tree.csv size(MB)= 0.01\n",
      " categoryid  parentid\n",
      "       1016       213\n",
      "        809       169\n",
      "        570         9\n",
      "------------------------------------------------------------\n",
      "events.csv size(MB)= 94.24\n",
      "    timestamp  visitorid event  itemid  transactionid\n",
      "1433221332117     257597  view  355908            NaN\n",
      "1433224214164     992329  view  248676            NaN\n",
      "1433221999827     111016  view  318965            NaN\n",
      "------------------------------------------------------------\n",
      "item_properties_part1.csv size(MB)= 484.32\n",
      "    timestamp  itemid   property                           value\n",
      "1435460400000  460429 categoryid                            1338\n",
      "1441508400000  206783        888         1116713 960601 n277.200\n",
      "1439089200000  395014        400 n552.000 639502 n720.000 424566\n",
      "------------------------------------------------------------\n",
      "item_properties_part2.csv size(MB)= 408.93\n",
      "    timestamp  itemid  property           value\n",
      "1433041200000  183478       561          769062\n",
      "1439694000000  132256       976 n26.400 1135780\n",
      "1435460400000  420307       921 1149317 1257525\n",
      "------------------------------------------------------------\n"
     ]
    }
   ],
   "source": [
    "for f in DATA_DIR.iterdir():\n",
    "    if f.suffix.lower() in [\".csv\"]:\n",
    "        print(f.name, \"size(MB)=\", round(f.stat().st_size/1e6,2))\n",
    "        print(pd.read_csv(f, nrows=3).head(3).to_string(index=False))\n",
    "        print(\"-\"*60)\n"
   ]
  },
  {
   "cell_type": "code",
   "execution_count": 37,
   "id": "061b8d60",
   "metadata": {},
   "outputs": [
    {
     "name": "stdout",
     "output_type": "stream",
     "text": [
      "columns: ['timestamp', 'visitorid', 'event', 'itemid', 'transactionid']\n",
      "guessed -> user: visitorid item: itemid time: timestamp event_type: event\n"
     ]
    }
   ],
   "source": [
    "# Cell 3 — helper functions to guess key columns\n",
    "def guess_col(cols, keywords):\n",
    "    cols_l = [c.lower() for c in cols]\n",
    "    for k in keywords:\n",
    "        for i, c in enumerate(cols_l):\n",
    "            if k in c:\n",
    "                return cols[i]\n",
    "    return None\n",
    "\n",
    "# Pick a small file sample to inspect header names - prefer events\n",
    "sample = pd.read_csv(DATA_DIR / \"events.csv\", nrows=5)\n",
    "cols = sample.columns.tolist()\n",
    "print(\"columns:\", cols)\n",
    "\n",
    "user_col = guess_col(cols, [\"user\", \"visitor\", \"visitorid\", \"userid\"])\n",
    "item_col = guess_col(cols, [\"item\", \"product\", \"itemid\", \"offerid\"])\n",
    "time_col = guess_col(cols, [\"time\", \"date\", \"timestamp\", \"ts\"])\n",
    "event_col = guess_col(cols, [\"event\", \"event_type\", \"action\", \"eventtype\"])\n",
    "\n",
    "print(\"guessed -> user:\", user_col, \"item:\", item_col, \"time:\", time_col, \"event_type:\", event_col)\n"
   ]
  },
  {
   "cell_type": "code",
   "execution_count": 14,
   "id": "bad6019d",
   "metadata": {},
   "outputs": [
    {
     "data": {
      "text/html": [
       "<div>\n",
       "<style scoped>\n",
       "    .dataframe tbody tr th:only-of-type {\n",
       "        vertical-align: middle;\n",
       "    }\n",
       "\n",
       "    .dataframe tbody tr th {\n",
       "        vertical-align: top;\n",
       "    }\n",
       "\n",
       "    .dataframe thead th {\n",
       "        text-align: right;\n",
       "    }\n",
       "</style>\n",
       "<table border=\"1\" class=\"dataframe\">\n",
       "  <thead>\n",
       "    <tr style=\"text-align: right;\">\n",
       "      <th></th>\n",
       "      <th>timestamp</th>\n",
       "      <th>itemid</th>\n",
       "      <th>property</th>\n",
       "      <th>value</th>\n",
       "    </tr>\n",
       "  </thead>\n",
       "  <tbody>\n",
       "    <tr>\n",
       "      <th>0</th>\n",
       "      <td>1435460400000</td>\n",
       "      <td>460429</td>\n",
       "      <td>categoryid</td>\n",
       "      <td>1338</td>\n",
       "    </tr>\n",
       "    <tr>\n",
       "      <th>1</th>\n",
       "      <td>1441508400000</td>\n",
       "      <td>206783</td>\n",
       "      <td>888</td>\n",
       "      <td>1116713 960601 n277.200</td>\n",
       "    </tr>\n",
       "    <tr>\n",
       "      <th>2</th>\n",
       "      <td>1439089200000</td>\n",
       "      <td>395014</td>\n",
       "      <td>400</td>\n",
       "      <td>n552.000 639502 n720.000 424566</td>\n",
       "    </tr>\n",
       "    <tr>\n",
       "      <th>3</th>\n",
       "      <td>1431226800000</td>\n",
       "      <td>59481</td>\n",
       "      <td>790</td>\n",
       "      <td>n15360.000</td>\n",
       "    </tr>\n",
       "    <tr>\n",
       "      <th>4</th>\n",
       "      <td>1431831600000</td>\n",
       "      <td>156781</td>\n",
       "      <td>917</td>\n",
       "      <td>828513</td>\n",
       "    </tr>\n",
       "  </tbody>\n",
       "</table>\n",
       "</div>"
      ],
      "text/plain": [
       "       timestamp  itemid    property                            value\n",
       "0  1435460400000  460429  categoryid                             1338\n",
       "1  1441508400000  206783         888          1116713 960601 n277.200\n",
       "2  1439089200000  395014         400  n552.000 639502 n720.000 424566\n",
       "3  1431226800000   59481         790                       n15360.000\n",
       "4  1431831600000  156781         917                           828513"
      ]
     },
     "execution_count": 14,
     "metadata": {},
     "output_type": "execute_result"
    }
   ],
   "source": [
    "item_properties1.head()"
   ]
  },
  {
   "cell_type": "code",
   "execution_count": 15,
   "id": "731f51f2",
   "metadata": {},
   "outputs": [
    {
     "data": {
      "text/html": [
       "<div>\n",
       "<style scoped>\n",
       "    .dataframe tbody tr th:only-of-type {\n",
       "        vertical-align: middle;\n",
       "    }\n",
       "\n",
       "    .dataframe tbody tr th {\n",
       "        vertical-align: top;\n",
       "    }\n",
       "\n",
       "    .dataframe thead th {\n",
       "        text-align: right;\n",
       "    }\n",
       "</style>\n",
       "<table border=\"1\" class=\"dataframe\">\n",
       "  <thead>\n",
       "    <tr style=\"text-align: right;\">\n",
       "      <th></th>\n",
       "      <th>timestamp</th>\n",
       "      <th>itemid</th>\n",
       "      <th>property</th>\n",
       "      <th>value</th>\n",
       "    </tr>\n",
       "  </thead>\n",
       "  <tbody>\n",
       "    <tr>\n",
       "      <th>0</th>\n",
       "      <td>1433041200000</td>\n",
       "      <td>183478</td>\n",
       "      <td>561</td>\n",
       "      <td>769062</td>\n",
       "    </tr>\n",
       "    <tr>\n",
       "      <th>1</th>\n",
       "      <td>1439694000000</td>\n",
       "      <td>132256</td>\n",
       "      <td>976</td>\n",
       "      <td>n26.400 1135780</td>\n",
       "    </tr>\n",
       "    <tr>\n",
       "      <th>2</th>\n",
       "      <td>1435460400000</td>\n",
       "      <td>420307</td>\n",
       "      <td>921</td>\n",
       "      <td>1149317 1257525</td>\n",
       "    </tr>\n",
       "    <tr>\n",
       "      <th>3</th>\n",
       "      <td>1431831600000</td>\n",
       "      <td>403324</td>\n",
       "      <td>917</td>\n",
       "      <td>1204143</td>\n",
       "    </tr>\n",
       "    <tr>\n",
       "      <th>4</th>\n",
       "      <td>1435460400000</td>\n",
       "      <td>230701</td>\n",
       "      <td>521</td>\n",
       "      <td>769062</td>\n",
       "    </tr>\n",
       "  </tbody>\n",
       "</table>\n",
       "</div>"
      ],
      "text/plain": [
       "       timestamp  itemid property            value\n",
       "0  1433041200000  183478      561           769062\n",
       "1  1439694000000  132256      976  n26.400 1135780\n",
       "2  1435460400000  420307      921  1149317 1257525\n",
       "3  1431831600000  403324      917          1204143\n",
       "4  1435460400000  230701      521           769062"
      ]
     },
     "execution_count": 15,
     "metadata": {},
     "output_type": "execute_result"
    }
   ],
   "source": [
    "item_properties2.head()"
   ]
  },
  {
   "cell_type": "code",
   "execution_count": null,
   "id": "23e6c371",
   "metadata": {},
   "outputs": [],
   "source": []
  }
 ],
 "metadata": {
  "kernelspec": {
   "display_name": "recsys",
   "language": "python",
   "name": "python3"
  },
  "language_info": {
   "codemirror_mode": {
    "name": "ipython",
    "version": 3
   },
   "file_extension": ".py",
   "mimetype": "text/x-python",
   "name": "python",
   "nbconvert_exporter": "python",
   "pygments_lexer": "ipython3",
   "version": "3.11.13"
  }
 },
 "nbformat": 4,
 "nbformat_minor": 5
}
