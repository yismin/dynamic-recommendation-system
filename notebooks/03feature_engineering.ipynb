{
 "cells": [
  {
   "cell_type": "code",
   "execution_count": null,
   "id": "6ac0ab7e",
   "metadata": {},
   "outputs": [],
   "source": [
    "import pandas as pd\n",
    "import numpy as np\n",
    "import matplotlib.pyplot as plt\n",
    "import seaborn as sns\n",
    "import psycopg2\n",
    "from sqlalchemy import create_engine\n",
    "import os\n",
    "from dotenv import load_dotenv"
   ]
  },
  {
   "cell_type": "code",
   "execution_count": null,
   "id": "347c9e7c",
   "metadata": {},
   "outputs": [],
   "source": [
    "load_dotenv()\n",
    "DB_CONFIG = {\n",
    "    'dbname': os.getenv('DB_NAME'),\n",
    "    'user': os.getenv('DB_USER'),\n",
    "    'password': os.getenv('DB_PASSWORD'),\n",
    "    'host': os.getenv('DB_HOST'),\n",
    "    'port': os.getenv('DB_PORT')\n",
    "}\n",
    "\n",
    "engine= create_engine(f\"postgresql://{DB_CONFIG['user']}:{DB_CONFIG['password']}@{DB_CONFIG['host']}:{DB_CONFIG['port']}/{DB_CONFIG['dbname']}\")"
   ]
  },
  {
   "cell_type": "code",
   "execution_count": null,
   "id": "07fddee1",
   "metadata": {},
   "outputs": [],
   "source": [
    "user_features = pd.read_sql(\"SELECT * FROM user_features\", engine)\n",
    "item_features = pd.read_sql(\"SELECT * FROM item_features\", engine)\n",
    "\n",
    "print(f\"Users: {len(user_features):,}\")\n",
    "print(f\"Items: {len(item_features):,}\")\n",
    "\n",
    "display(user_features.head())\n",
    "display(item_features.head())"
   ]
  },
  {
   "cell_type": "code",
   "execution_count": null,
   "id": "4ef797f3",
   "metadata": {},
   "outputs": [],
   "source": [
    "# USER FEATURE EXPLORATION"
   ]
  },
  {
   "cell_type": "code",
   "execution_count": null,
   "id": "eb8f2ae2",
   "metadata": {},
   "outputs": [],
   "source": [
    "# User segment distribution\n",
    "plt.figure(figsize=(10, 6))\n",
    "user_features['user_segment'].value_counts().plot(kind='bar')\n",
    "plt.title('User Segment Distribution')\n",
    "plt.ylabel('Count')\n",
    "plt.show()"
   ]
  },
  {
   "cell_type": "code",
   "execution_count": null,
   "id": "97415e1b",
   "metadata": {},
   "outputs": [],
   "source": [
    "# Conversion by segment\n",
    "segment_conversion = user_features.groupby('user_segment').agg({\n",
    "    'total_events': 'mean',\n",
    "    'total_views': 'mean',\n",
    "    'total_transactions': 'mean'\n",
    "})\n",
    "print(\"Average Behavior by Segment:\")\n",
    "print(segment_conversion)"
   ]
  },
  {
   "cell_type": "code",
   "execution_count": null,
   "id": "0b83a58f",
   "metadata": {},
   "outputs": [],
   "source": [
    "# ITEM FEATURE EXPLORATION"
   ]
  },
  {
   "cell_type": "code",
   "execution_count": null,
   "id": "83f9a3ef",
   "metadata": {},
   "outputs": [],
   "source": [
    "# Conversion rate distribution\n",
    "plt.figure(figsize=(12, 6))\n",
    "plt.subplot(1, 2, 1)\n",
    "plt.hist(item_features['conversion_rate'], bins=50, edgecolor='black')\n",
    "plt.title('Item Conversion Rate Distribution')\n",
    "plt.xlabel('Conversion Rate')\n",
    "plt.ylabel('Count')\n",
    "\n",
    "plt.subplot(1, 2, 2)\n",
    "plt.hist(item_features['popularity_score'], bins=50, edgecolor='black')\n",
    "plt.title('Popularity Score Distribution')\n",
    "plt.xlabel('Popularity Score')\n",
    "plt.ylabel('Count')\n",
    "plt.tight_layout()\n",
    "plt.show()"
   ]
  },
  {
   "cell_type": "code",
   "execution_count": null,
   "id": "0e7422cc",
   "metadata": {},
   "outputs": [],
   "source": [
    "print(\"Top 10 by views:\")\n",
    "display(item_features.nlargest(10, 'total_views')[['itemid', 'total_views', 'total_transactions', 'conversion_rate']].reset_index(drop=True))\n",
    "\n",
    "print(\"\\nTop 10 by conversion (min 100 views):\")\n",
    "display(item_features[item_features['total_views'] >= 100].nlargest(10, 'conversion_rate')[['itemid', 'total_views', 'conversion_rate']].reset_index(drop=True))"
   ]
  },
  {
   "cell_type": "code",
   "execution_count": null,
   "id": "592a3417",
   "metadata": {},
   "outputs": [],
   "source": [
    "# FEATURE CORRELATIONS"
   ]
  },
  {
   "cell_type": "code",
   "execution_count": null,
   "id": "7be14b6a",
   "metadata": {},
   "outputs": [],
   "source": [
    "# User feature correlations\n",
    "user_numeric = user_features[['total_events', 'total_views', 'total_addtocarts', 'total_transactions']]\n",
    "sns.heatmap(user_numeric.corr(), annot=True, cmap='coolwarm')\n",
    "plt.title('User Feature Correlations')\n",
    "plt.show()"
   ]
  },
  {
   "cell_type": "code",
   "execution_count": null,
   "id": "6e20004d",
   "metadata": {},
   "outputs": [],
   "source": [
    "# Item feature correlations\n",
    "item_numeric = item_features[['total_views', 'total_addtocarts', 'total_transactions', 'conversion_rate']]\n",
    "sns.heatmap(item_numeric.corr(), annot=True, cmap='coolwarm')\n",
    "plt.title('Item Feature Correlations')\n",
    "plt.show()"
   ]
  }
 ],
 "metadata": {
  "kernelspec": {
   "display_name": "recsys",
   "language": "python",
   "name": "python3"
  },
  "language_info": {
   "codemirror_mode": {
    "name": "ipython",
    "version": 3
   },
   "file_extension": ".py",
   "mimetype": "text/x-python",
   "name": "python",
   "nbconvert_exporter": "python",
   "pygments_lexer": "ipython3",
   "version": "3.11.13"
  }
 },
 "nbformat": 4,
 "nbformat_minor": 5
}
